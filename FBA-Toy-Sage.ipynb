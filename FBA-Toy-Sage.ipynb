{
 "cells": [
  {
   "cell_type": "markdown",
   "metadata": {
    "deletable": true,
    "editable": true
   },
   "source": [
    "# Using Sage to solve the Flux Balance Analysis (FBA) problem for a Toy model\n",
    "\n",
    "\n",
    "### Linear equations for the toy model\n",
    "\n",
    "For Carbon1:\n",
    "v[17] - v[1] - v[16] = 0\n",
    "\n",
    "For Carbon2:\n",
    "v[19] - v[2] - v[18] = 0\n",
    "\n",
    "For metabolite A:\n",
    "v[1] + v[2] - v[3] - v[4] = 0\n",
    "\n",
    "For metabolite B: \n",
    "v[3] + v[5] - v[6] - v[7] = 0 \n",
    "\n",
    "For metabolite C: \n",
    "v[6] + 0.8*v[9] - v[8] - 0.8*v[10] - v[11] - v[12] = 0\n",
    "\n",
    "For metabolite D:\n",
    "v[23] - v[22] + 3*v[11] = 0\n",
    "\n",
    "For metabolite E: \n",
    "3*v[12] + v[25] - v[24] - v[30] = 0\n",
    "\n",
    "For metabolite F:\n",
    "v[7] + v[27] - v[26] - v[30] = 0\n",
    "\n",
    "For metabolite G:\n",
    "v[8] - v[9] - v[13] + v[14] + v[10] = 0\n",
    "\n",
    "For metabolite H:\n",
    "v[13] - v[14] + v[29] - v[28] - v[30] = 0\n",
    "\n",
    "For metabolite I:\n",
    "v[4] - v[5] = 0\n",
    "\n",
    "For metabolite O2:\n",
    "v[21] - v[15] - v[20] = 0\n",
    "\n",
    "For metabolite ATP:\n",
    "2*v[6] + 2*v[11] + v[14] + v[15] - v[3] - v[5] - v[13] - 10*v[30] == 0\n",
    "\n",
    "For metabolite NADH:\n",
    "2*v[6] + 2*v[9] + 2*v[14] - 2*v[10] - 4*v[12] - 2*v[13] - v[15] == 0\n"
   ]
  },
  {
   "cell_type": "code",
   "execution_count": 101,
   "metadata": {
    "collapsed": true,
    "deletable": true,
    "editable": true
   },
   "outputs": [],
   "source": [
    "P = MixedIntegerLinearProgram()"
   ]
  },
  {
   "cell_type": "code",
   "execution_count": 102,
   "metadata": {
    "collapsed": false
   },
   "outputs": [],
   "source": [
    "v = P.new_variable(nonnegative=True)"
   ]
  },
  {
   "cell_type": "markdown",
   "metadata": {},
   "source": [
    "### Balance constraints"
   ]
  },
  {
   "cell_type": "code",
   "execution_count": 103,
   "metadata": {
    "collapsed": false
   },
   "outputs": [],
   "source": [
    "P.add_constraint(v[17] - v[1] - v[16] == 0)\n",
    "P.add_constraint(v[19] - v[2] - v[18] == 0)\n",
    "P.add_constraint(v[1] + v[2] - v[3] - v[4] == 0)\n",
    "P.add_constraint(v[3] + v[5] - v[6] - v[7] == 0)\n",
    "P.add_constraint(v[6] + 0.8*v[9] - v[8] - 0.8*v[10] - v[11] - v[12] == 0)\n",
    "P.add_constraint(v[23] - v[22] + 3*v[11] == 0)\n",
    "P.add_constraint(3*v[12] + v[25] - v[24] - v[30] == 0)\n",
    "P.add_constraint(v[7] + v[27] - v[26] - v[30] == 0)\n",
    "P.add_constraint(v[8] - v[9] - v[13] + v[14] + v[10] == 0)\n",
    "P.add_constraint(v[13] - v[14] + v[29] - v[28] - v[30] == 0)\n",
    "P.add_constraint(v[4] - v[5] == 0)\n",
    "P.add_constraint(v[21] - v[15] - v[20] == 0)\n",
    "P.add_constraint(2*v[6] + 2*v[11] + v[14] + v[15] - v[3] - v[5] - v[13] - 10*v[30] == 0)\n",
    "P.add_constraint(2*v[6] + 2*v[9] + 2*v[14] - 2*v[10] - 4*v[12] - 2*v[13] - v[15] == 0)    "
   ]
  },
  {
   "cell_type": "markdown",
   "metadata": {},
   "source": [
    "### Bound constraints"
   ]
  },
  {
   "cell_type": "code",
   "execution_count": 106,
   "metadata": {
    "collapsed": true
   },
   "outputs": [],
   "source": [
    "P.add_constraint(v[1] <= 1000)\n",
    "P.add_constraint(v[2] <= 1000)\n",
    "P.add_constraint(v[3] <= 1000)\n",
    "P.add_constraint(v[4] <= 1000)\n",
    "P.add_constraint(v[5] <= 1000)\n",
    "P.add_constraint(v[6] <= 1000)\n",
    "P.add_constraint(v[7] <= 1000)\n",
    "P.add_constraint(v[8] <= 1000)\n",
    "P.add_constraint(v[9] <= 1000)\n",
    "P.add_constraint(v[10] <= 1000)\n",
    "P.add_constraint(v[11] <= 1000)\n",
    "P.add_constraint(v[12] <= 1000)\n",
    "P.add_constraint(v[13] <= 1000)\n",
    "P.add_constraint(v[14] <= 1000)\n",
    "P.add_constraint(v[15] <= 1000)\n",
    "P.add_constraint(v[16] <= 1000)\n",
    "P.add_constraint(v[17] <= 10) \n",
    "P.add_constraint(v[18] <= 1000)\n",
    "P.add_constraint(v[19] == 0)\n",
    "P.add_constraint(v[20] <= 1000)\n",
    "P.add_constraint(v[21] <= 1000)\n",
    "P.add_constraint(v[22] <= 1000)\n",
    "P.add_constraint(v[23] <= 0)\n",
    "P.add_constraint(v[24] <= 1000)\n",
    "P.add_constraint(v[25] <= 0)\n",
    "P.add_constraint(v[26] <= 1000)\n",
    "P.add_constraint(v[27] <= 0)\n",
    "P.add_constraint(v[28] <= 1000)\n",
    "P.add_constraint(v[29] <= 0)\n",
    "P.add_constraint(v[30] <= 1000)"
   ]
  },
  {
   "cell_type": "code",
   "execution_count": 107,
   "metadata": {
    "collapsed": true
   },
   "outputs": [],
   "source": [
    "P.set_objective(v[30])"
   ]
  },
  {
   "cell_type": "code",
   "execution_count": 108,
   "metadata": {
    "collapsed": false
   },
   "outputs": [
    {
     "data": {
      "text/plain": [
       "3.12"
      ]
     },
     "execution_count": 108,
     "metadata": {},
     "output_type": "execute_result"
    }
   ],
   "source": [
    "P.solve()"
   ]
  },
  {
   "cell_type": "code",
   "execution_count": 109,
   "metadata": {
    "collapsed": false
   },
   "outputs": [
    {
     "data": {
      "text/plain": [
       "{1: 10.0,\n",
       " 2: 0.0,\n",
       " 3: 10.0,\n",
       " 4: 0.0,\n",
       " 5: 0.0,\n",
       " 6: 6.880000000000001,\n",
       " 7: 3.119999999999999,\n",
       " 8: 16.72,\n",
       " 9: 13.6,\n",
       " 10: 0.0,\n",
       " 11: 0.0,\n",
       " 12: 1.0400000000000003,\n",
       " 13: 3.120000000000001,\n",
       " 14: 0.0,\n",
       " 15: 30.56,\n",
       " 16: 0.0,\n",
       " 17: 10.0,\n",
       " 18: 0.0,\n",
       " 19: 0.0,\n",
       " 20: 0.0,\n",
       " 21: 30.56,\n",
       " 22: -0.0,\n",
       " 23: 0.0,\n",
       " 24: 8.881784197001252e-16,\n",
       " 25: 0.0,\n",
       " 26: -8.881784197001252e-16,\n",
       " 27: 0.0,\n",
       " 28: 8.881784197001252e-16,\n",
       " 29: 0.0,\n",
       " 30: 3.12}"
      ]
     },
     "execution_count": 109,
     "metadata": {},
     "output_type": "execute_result"
    }
   ],
   "source": [
    "P.get_values(v)"
   ]
  },
  {
   "cell_type": "code",
   "execution_count": null,
   "metadata": {
    "collapsed": true
   },
   "outputs": [],
   "source": []
  }
 ],
 "metadata": {
  "kernelspec": {
   "display_name": "SageMath 8.0",
   "language": "",
   "name": "sagemath"
  },
  "language_info": {
   "codemirror_mode": {
    "name": "ipython",
    "version": 2
   },
   "file_extension": ".py",
   "mimetype": "text/x-python",
   "name": "python",
   "nbconvert_exporter": "python",
   "pygments_lexer": "ipython2",
   "version": "2.7.13"
  }
 },
 "nbformat": 4,
 "nbformat_minor": 2
}
