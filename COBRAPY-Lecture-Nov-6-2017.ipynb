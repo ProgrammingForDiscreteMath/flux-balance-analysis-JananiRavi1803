{
 "cells": [
  {
   "cell_type": "markdown",
   "metadata": {},
   "source": [
    "# Beginner's Manual"
   ]
  },
  {
   "cell_type": "code",
   "execution_count": 1,
   "metadata": {
    "collapsed": true
   },
   "outputs": [],
   "source": [
    "from __future__ import print_function\n",
    "\n",
    "import cobra\n",
    "import cobra.test"
   ]
  },
  {
   "cell_type": "markdown",
   "metadata": {},
   "source": [
    "## E. coli core metabolic model"
   ]
  },
  {
   "cell_type": "code",
   "execution_count": 2,
   "metadata": {
    "collapsed": true
   },
   "outputs": [],
   "source": [
    "coremodel = cobra.test.create_test_model(\"textbook\")"
   ]
  },
  {
   "cell_type": "code",
   "execution_count": 3,
   "metadata": {},
   "outputs": [
    {
     "name": "stdout",
     "output_type": "stream",
     "text": [
      "95\n",
      "72\n",
      "137\n"
     ]
    }
   ],
   "source": [
    "print(len(coremodel.reactions))\n",
    "print(len(coremodel.metabolites))\n",
    "print(len(coremodel.genes))"
   ]
  },
  {
   "cell_type": "code",
   "execution_count": 4,
   "metadata": {},
   "outputs": [
    {
     "data": {
      "text/html": [
       "\n",
       "        <table>\n",
       "            <tr>\n",
       "                <td><strong>Name</strong></td>\n",
       "                <td>e_coli_core</td>\n",
       "            </tr><tr>\n",
       "                <td><strong>Memory address</strong></td>\n",
       "                <td>0x07efd189689e8</td>\n",
       "            </tr><tr>\n",
       "                <td><strong>Number of metabolites</strong></td>\n",
       "                <td>72</td>\n",
       "            </tr><tr>\n",
       "                <td><strong>Number of reactions</strong></td>\n",
       "                <td>95</td>\n",
       "            </tr><tr>\n",
       "                <td><strong>Objective expression</strong></td>\n",
       "                <td>-1.0*Biomass_Ecoli_core_reverse_2cdba + 1.0*Biomass_Ecoli_core</td>\n",
       "            </tr><tr>\n",
       "                <td><strong>Compartments</strong></td>\n",
       "                <td>cytosol, extracellular</td>\n",
       "            </tr>\n",
       "          </table>"
      ],
      "text/plain": [
       "<Model e_coli_core at 0x7efd189689e8>"
      ]
     },
     "execution_count": 4,
     "metadata": {},
     "output_type": "execute_result"
    }
   ],
   "source": [
    "coremodel"
   ]
  },
  {
   "cell_type": "markdown",
   "metadata": {},
   "source": [
    "## Salmonella metabolic model"
   ]
  },
  {
   "cell_type": "code",
   "execution_count": 5,
   "metadata": {
    "collapsed": true
   },
   "outputs": [],
   "source": [
    "salmmodel = cobra.test.create_test_model(\"salmonella\")"
   ]
  },
  {
   "cell_type": "code",
   "execution_count": 6,
   "metadata": {},
   "outputs": [
    {
     "data": {
      "text/html": [
       "\n",
       "        <table>\n",
       "            <tr>\n",
       "                <td><strong>Name</strong></td>\n",
       "                <td>Salmonella_consensus_build_1</td>\n",
       "            </tr><tr>\n",
       "                <td><strong>Memory address</strong></td>\n",
       "                <td>0x07efd1d249e48</td>\n",
       "            </tr><tr>\n",
       "                <td><strong>Number of metabolites</strong></td>\n",
       "                <td>1802</td>\n",
       "            </tr><tr>\n",
       "                <td><strong>Number of reactions</strong></td>\n",
       "                <td>2546</td>\n",
       "            </tr><tr>\n",
       "                <td><strong>Objective expression</strong></td>\n",
       "                <td>1.0*biomass_iRR1083_metals - 1.0*biomass_iRR1083_metals_reverse_00f08</td>\n",
       "            </tr><tr>\n",
       "                <td><strong>Compartments</strong></td>\n",
       "                <td>Cytoplasm, Periplasm, Extracellular</td>\n",
       "            </tr>\n",
       "          </table>"
      ],
      "text/plain": [
       "<Model Salmonella_consensus_build_1 at 0x7efd1d249e48>"
      ]
     },
     "execution_count": 6,
     "metadata": {},
     "output_type": "execute_result"
    }
   ],
   "source": [
    "salmmodel"
   ]
  },
  {
   "cell_type": "markdown",
   "metadata": {},
   "source": [
    "#### glucose 6-phosphate isomerase reaction (\"PGI\")"
   ]
  },
  {
   "cell_type": "code",
   "execution_count": 7,
   "metadata": {
    "collapsed": true
   },
   "outputs": [],
   "source": [
    "pgi = coremodel.reactions.get_by_id(\"PGI\")"
   ]
  },
  {
   "cell_type": "code",
   "execution_count": 8,
   "metadata": {},
   "outputs": [
    {
     "data": {
      "text/html": [
       "\n",
       "        <table>\n",
       "            <tr>\n",
       "                <td><strong>Reaction identifier</strong></td><td>PGI</td>\n",
       "            </tr><tr>\n",
       "                <td><strong>Name</strong></td><td>glucose-6-phosphate isomerase</td>\n",
       "            </tr><tr>\n",
       "                <td><strong>Memory address</strong></td>\n",
       "                <td>0x07efcc535ce10</td>\n",
       "            </tr><tr>\n",
       "                <td><strong>Stoichiometry</strong></td>\n",
       "                <td>\n",
       "                    <p style='text-align:right'>g6p_c <=> f6p_c</p>\n",
       "                    <p style='text-align:right'>D-Glucose 6-phosphate <=> D-Fructose 6-phosphate</p>\n",
       "                </td>\n",
       "            </tr><tr>\n",
       "                <td><strong>GPR</strong></td><td>b4025</td>\n",
       "            </tr><tr>\n",
       "                <td><strong>Lower bound</strong></td><td>-1000.0</td>\n",
       "            </tr><tr>\n",
       "                <td><strong>Upper bound</strong></td><td>1000.0</td>\n",
       "            </tr>\n",
       "        </table>\n",
       "        "
      ],
      "text/plain": [
       "<Reaction PGI at 0x7efcc535ce10>"
      ]
     },
     "execution_count": 8,
     "metadata": {},
     "output_type": "execute_result"
    }
   ],
   "source": [
    "pgi"
   ]
  },
  {
   "cell_type": "markdown",
   "metadata": {},
   "source": [
    "#### D-Fructose 6-phosphate metabolite"
   ]
  },
  {
   "cell_type": "code",
   "execution_count": 9,
   "metadata": {
    "collapsed": true
   },
   "outputs": [],
   "source": [
    "g6p_c = coremodel.metabolites.get_by_id(\"g6p_c\")"
   ]
  },
  {
   "cell_type": "code",
   "execution_count": 10,
   "metadata": {},
   "outputs": [
    {
     "data": {
      "text/html": [
       "\n",
       "        <table>\n",
       "            <tr>\n",
       "                <td><strong>Metabolite identifier</strong></td><td>g6p_c</td>\n",
       "            </tr><tr>\n",
       "                <td><strong>Name</strong></td><td>D-Glucose 6-phosphate</td>\n",
       "            </tr><tr>\n",
       "                <td><strong>Memory address</strong></td>\n",
       "                <td>0x07efcc5401048</td>\n",
       "            </tr><tr>\n",
       "                <td><strong>Formula</strong></td><td>C6H11O9P</td>\n",
       "            </tr><tr>\n",
       "                <td><strong>Compartment</strong></td><td>c</td>\n",
       "            </tr><tr>\n",
       "                <td><strong>In 4 reaction(s)</strong></td><td>\n",
       "                    PGI, G6PDH2r, GLCpts, Biomass_Ecoli_core</td>\n",
       "            </tr>\n",
       "        </table>"
      ],
      "text/plain": [
       "<Metabolite g6p_c at 0x7efcc5401048>"
      ]
     },
     "execution_count": 10,
     "metadata": {},
     "output_type": "execute_result"
    }
   ],
   "source": [
    "g6p_c"
   ]
  },
  {
   "cell_type": "code",
   "execution_count": 12,
   "metadata": {},
   "outputs": [
    {
     "data": {
      "text/plain": [
       "4"
      ]
     },
     "execution_count": 12,
     "metadata": {},
     "output_type": "execute_result"
    }
   ],
   "source": [
    "len(g6p_c.reactions)"
   ]
  },
  {
   "cell_type": "code",
   "execution_count": 13,
   "metadata": {},
   "outputs": [
    {
     "data": {
      "text/plain": [
       "[<Reaction ACALD at 0x7efcc53b88d0>,\n",
       " <Reaction ACALDt at 0x7efcc53b8c50>,\n",
       " <Reaction ACKr at 0x7efcc53b8d68>,\n",
       " <Reaction ACONTa at 0x7efcc53b8ef0>,\n",
       " <Reaction ACONTb at 0x7efcc53b8f98>,\n",
       " <Reaction ACt2r at 0x7efcc53bf1d0>,\n",
       " <Reaction ADK1 at 0x7efcc53bf0b8>,\n",
       " <Reaction AKGDH at 0x7efcc53bf470>,\n",
       " <Reaction AKGt2r at 0x7efcc53bf5f8>,\n",
       " <Reaction ALCD2x at 0x7efcc53bf780>,\n",
       " <Reaction ATPM at 0x7efcc53bf940>,\n",
       " <Reaction ATPS4r at 0x7efcc53bf6a0>,\n",
       " <Reaction Biomass_Ecoli_core at 0x7efcc53bf978>,\n",
       " <Reaction CO2t at 0x7efcc53c30f0>,\n",
       " <Reaction CS at 0x7efcc53bfeb8>,\n",
       " <Reaction CYTBD at 0x7efcc53bfb38>,\n",
       " <Reaction D_LACt2 at 0x7efcc53c3160>,\n",
       " <Reaction ENO at 0x7efcc53c33c8>,\n",
       " <Reaction ETOHt2r at 0x7efcc53c36a0>,\n",
       " <Reaction EX_ac_e at 0x7efcc53c34e0>,\n",
       " <Reaction EX_acald_e at 0x7efcc53c37b8>,\n",
       " <Reaction EX_akg_e at 0x7efcc53c37f0>,\n",
       " <Reaction EX_co2_e at 0x7efcc53c3668>,\n",
       " <Reaction EX_etoh_e at 0x7efcc53c3908>,\n",
       " <Reaction EX_for_e at 0x7efcc53c3978>,\n",
       " <Reaction EX_fru_e at 0x7efcc53c39b0>,\n",
       " <Reaction EX_fum_e at 0x7efcc53c3a58>,\n",
       " <Reaction EX_glc__D_e at 0x7efcc53c3ac8>,\n",
       " <Reaction EX_gln__L_e at 0x7efcc53c3b38>,\n",
       " <Reaction EX_glu__L_e at 0x7efcc53c3748>,\n",
       " <Reaction EX_h_e at 0x7efcc53c3c18>,\n",
       " <Reaction EX_h2o_e at 0x7efcc53c3c50>,\n",
       " <Reaction EX_lac__D_e at 0x7efcc53c3cc0>,\n",
       " <Reaction EX_mal__L_e at 0x7efcc53c3d68>,\n",
       " <Reaction EX_nh4_e at 0x7efcc53c3c88>,\n",
       " <Reaction EX_o2_e at 0x7efcc53c3e48>,\n",
       " <Reaction EX_pi_e at 0x7efcc53c3eb8>,\n",
       " <Reaction EX_pyr_e at 0x7efcc53c3f60>,\n",
       " <Reaction EX_succ_e at 0x7efcc53c3f28>,\n",
       " <Reaction FBA at 0x7efcc534c128>,\n",
       " <Reaction FBP at 0x7efcc534c2e8>,\n",
       " <Reaction FORt2 at 0x7efcc534c4e0>,\n",
       " <Reaction FORti at 0x7efcc534c668>,\n",
       " <Reaction FRD7 at 0x7efcc534c438>,\n",
       " <Reaction FRUpts2 at 0x7efcc534c940>,\n",
       " <Reaction FUM at 0x7efcc534cc18>,\n",
       " <Reaction FUMt2_2 at 0x7efcc534ccc0>,\n",
       " <Reaction G6PDH2r at 0x7efcc5351048>,\n",
       " <Reaction GAPD at 0x7efcc5351240>,\n",
       " <Reaction GLCpts at 0x7efcc5351358>,\n",
       " <Reaction GLNS at 0x7efcc5351128>,\n",
       " <Reaction GLNabc at 0x7efcc53515c0>,\n",
       " <Reaction GLUDy at 0x7efcc53519b0>,\n",
       " <Reaction GLUN at 0x7efcc5351be0>,\n",
       " <Reaction GLUSy at 0x7efcc5351c18>,\n",
       " <Reaction GLUt2r at 0x7efcc5351e48>,\n",
       " <Reaction GND at 0x7efcc5351fd0>,\n",
       " <Reaction H2Ot at 0x7efcc53571d0>,\n",
       " <Reaction ICDHyr at 0x7efcc53570f0>,\n",
       " <Reaction ICL at 0x7efcc53574a8>,\n",
       " <Reaction LDH_D at 0x7efcc5357588>,\n",
       " <Reaction MALS at 0x7efcc53576d8>,\n",
       " <Reaction MALt2_2 at 0x7efcc5357860>,\n",
       " <Reaction MDH at 0x7efcc5357978>,\n",
       " <Reaction ME1 at 0x7efcc5357b38>,\n",
       " <Reaction ME2 at 0x7efcc5357c88>,\n",
       " <Reaction NADH16 at 0x7efcc5357d68>,\n",
       " <Reaction NADTRHD at 0x7efcc535c1d0>,\n",
       " <Reaction NH4t at 0x7efcc535c2e8>,\n",
       " <Reaction O2t at 0x7efcc535c320>,\n",
       " <Reaction PDH at 0x7efcc535c860>,\n",
       " <Reaction PFK at 0x7efcc535ca58>,\n",
       " <Reaction PFL at 0x7efcc535cbe0>,\n",
       " <Reaction PGI at 0x7efcc535ce10>,\n",
       " <Reaction PGK at 0x7efcc535cef0>,\n",
       " <Reaction PGL at 0x7efcc53620f0>,\n",
       " <Reaction PGM at 0x7efcc5362390>,\n",
       " <Reaction PIt2r at 0x7efcc5362470>,\n",
       " <Reaction PPC at 0x7efcc53626a0>,\n",
       " <Reaction PPCK at 0x7efcc53628d0>,\n",
       " <Reaction PPS at 0x7efcc53629e8>,\n",
       " <Reaction PTAr at 0x7efcc5362ba8>,\n",
       " <Reaction PYK at 0x7efcc5362be0>,\n",
       " <Reaction PYRt2 at 0x7efcc5362dd8>,\n",
       " <Reaction RPE at 0x7efcc5362d68>,\n",
       " <Reaction RPI at 0x7efcc5362ac8>,\n",
       " <Reaction SUCCt2_2 at 0x7efcc5367080>,\n",
       " <Reaction SUCCt3 at 0x7efcc5367240>,\n",
       " <Reaction SUCDi at 0x7efcc5367358>,\n",
       " <Reaction SUCOAS at 0x7efcc53674a8>,\n",
       " <Reaction TALA at 0x7efcc5367710>,\n",
       " <Reaction THD2 at 0x7efcc5367860>,\n",
       " <Reaction TKT1 at 0x7efcc53674e0>,\n",
       " <Reaction TKT2 at 0x7efcc5367a20>,\n",
       " <Reaction TPI at 0x7efcc53679b0>]"
      ]
     },
     "execution_count": 13,
     "metadata": {},
     "output_type": "execute_result"
    }
   ],
   "source": [
    " coremodel.reactions"
   ]
  },
  {
   "cell_type": "code",
   "execution_count": 14,
   "metadata": {},
   "outputs": [
    {
     "data": {
      "text/plain": [
       "[<Metabolite 13dpg_c at 0x7efcc53d1e80>,\n",
       " <Metabolite 2pg_c at 0x7efd220c8940>,\n",
       " <Metabolite 3pg_c at 0x7efcc53eb3c8>,\n",
       " <Metabolite 6pgc_c at 0x7efcc53eb6a0>,\n",
       " <Metabolite 6pgl_c at 0x7efcc53eb898>,\n",
       " <Metabolite ac_c at 0x7efcc53eba90>,\n",
       " <Metabolite ac_e at 0x7efcc53ebe10>,\n",
       " <Metabolite acald_c at 0x7efcc53f6208>,\n",
       " <Metabolite acald_e at 0x7efcc53f6518>,\n",
       " <Metabolite accoa_c at 0x7efcc53f6828>,\n",
       " <Metabolite acon_C_c at 0x7efcc53f67f0>,\n",
       " <Metabolite actp_c at 0x7efcc53f6c50>,\n",
       " <Metabolite adp_c at 0x7efcc53f6e80>,\n",
       " <Metabolite akg_c at 0x7efcc53fa240>,\n",
       " <Metabolite akg_e at 0x7efcc53fa470>,\n",
       " <Metabolite amp_c at 0x7efcc53fa6d8>,\n",
       " <Metabolite atp_c at 0x7efcc53fa7b8>,\n",
       " <Metabolite cit_c at 0x7efcc53fab38>,\n",
       " <Metabolite co2_c at 0x7efcc53ff278>,\n",
       " <Metabolite co2_e at 0x7efcc53ff550>,\n",
       " <Metabolite coa_c at 0x7efcc53ff828>,\n",
       " <Metabolite dhap_c at 0x7efcc53ffb38>,\n",
       " <Metabolite e4p_c at 0x7efcc53ffdd8>,\n",
       " <Metabolite etoh_c at 0x7efcc54030f0>,\n",
       " <Metabolite etoh_e at 0x7efcc5403518>,\n",
       " <Metabolite f6p_c at 0x7efcc5403908>,\n",
       " <Metabolite fdp_c at 0x7efcc54039b0>,\n",
       " <Metabolite for_c at 0x7efcc5403c18>,\n",
       " <Metabolite for_e at 0x7efcc5406128>,\n",
       " <Metabolite fru_e at 0x7efcc5406470>,\n",
       " <Metabolite fum_c at 0x7efcc5406780>,\n",
       " <Metabolite fum_e at 0x7efcc5406a58>,\n",
       " <Metabolite g3p_c at 0x7efcc5406d30>,\n",
       " <Metabolite g6p_c at 0x7efcc5401048>,\n",
       " <Metabolite glc__D_e at 0x7efcc5406dd8>,\n",
       " <Metabolite gln__L_c at 0x7efcc54014a8>,\n",
       " <Metabolite gln__L_e at 0x7efcc5401518>,\n",
       " <Metabolite glu__L_c at 0x7efcc54016d8>,\n",
       " <Metabolite glu__L_e at 0x7efcc5401a20>,\n",
       " <Metabolite glx_c at 0x7efcc5401c50>,\n",
       " <Metabolite h2o_c at 0x7efcc5401ef0>,\n",
       " <Metabolite h2o_e at 0x7efcc538e3c8>,\n",
       " <Metabolite h_c at 0x7efcc538e860>,\n",
       " <Metabolite h_e at 0x7efcc538e940>,\n",
       " <Metabolite icit_c at 0x7efcc538ecf8>,\n",
       " <Metabolite lac__D_c at 0x7efcc538eeb8>,\n",
       " <Metabolite lac__D_e at 0x7efcc538d080>,\n",
       " <Metabolite mal__L_c at 0x7efcc538d208>,\n",
       " <Metabolite mal__L_e at 0x7efcc538d400>,\n",
       " <Metabolite nad_c at 0x7efcc538d5f8>,\n",
       " <Metabolite nadh_c at 0x7efcc538d940>,\n",
       " <Metabolite nadp_c at 0x7efcc538dc18>,\n",
       " <Metabolite nadph_c at 0x7efcc538def0>,\n",
       " <Metabolite nh4_c at 0x7efcc5397160>,\n",
       " <Metabolite nh4_e at 0x7efcc5397550>,\n",
       " <Metabolite o2_c at 0x7efcc5397940>,\n",
       " <Metabolite o2_e at 0x7efcc5397c18>,\n",
       " <Metabolite oaa_c at 0x7efcc5397ef0>,\n",
       " <Metabolite pep_c at 0x7efcc539b1d0>,\n",
       " <Metabolite pi_c at 0x7efcc539b438>,\n",
       " <Metabolite pi_e at 0x7efcc539b780>,\n",
       " <Metabolite pyr_c at 0x7efcc539bac8>,\n",
       " <Metabolite pyr_e at 0x7efcc539bd30>,\n",
       " <Metabolite q8_c at 0x7efcc539d048>,\n",
       " <Metabolite q8h2_c at 0x7efcc539d240>,\n",
       " <Metabolite r5p_c at 0x7efcc539d3c8>,\n",
       " <Metabolite ru5p__D_c at 0x7efcc539d470>,\n",
       " <Metabolite s7p_c at 0x7efcc539d7f0>,\n",
       " <Metabolite succ_c at 0x7efcc539da58>,\n",
       " <Metabolite succ_e at 0x7efcc539dcf8>,\n",
       " <Metabolite succoa_c at 0x7efcc539df28>,\n",
       " <Metabolite xu5p__D_c at 0x7efcc539df98>]"
      ]
     },
     "execution_count": 14,
     "metadata": {},
     "output_type": "execute_result"
    }
   ],
   "source": [
    "coremodel.metabolites"
   ]
  },
  {
   "cell_type": "code",
   "execution_count": 15,
   "metadata": {},
   "outputs": [
    {
     "data": {
      "text/plain": [
       "[<Gene b1241 at 0x7efcc53a6390>,\n",
       " <Gene b0351 at 0x7efcc53a6438>,\n",
       " <Gene s0001 at 0x7efcc53a64e0>,\n",
       " <Gene b3115 at 0x7efcc53a6588>,\n",
       " <Gene b1849 at 0x7efcc53a6630>,\n",
       " <Gene b2296 at 0x7efcc53a66d8>,\n",
       " <Gene b1276 at 0x7efcc53a67b8>,\n",
       " <Gene b0118 at 0x7efcc53a6898>,\n",
       " <Gene b0474 at 0x7efcc53a6940>,\n",
       " <Gene b0116 at 0x7efcc53a69b0>,\n",
       " <Gene b0726 at 0x7efcc53a6ac8>,\n",
       " <Gene b0727 at 0x7efcc53a6b70>,\n",
       " <Gene b2587 at 0x7efcc53a6c18>,\n",
       " <Gene b0356 at 0x7efcc53a6cc0>,\n",
       " <Gene b1478 at 0x7efcc53a6d68>,\n",
       " <Gene b3735 at 0x7efcc53a6e10>,\n",
       " <Gene b3733 at 0x7efcc53a6eb8>,\n",
       " <Gene b3734 at 0x7efcc53a6f98>,\n",
       " <Gene b3732 at 0x7efcc53a70b8>,\n",
       " <Gene b3736 at 0x7efcc53a7198>,\n",
       " <Gene b3738 at 0x7efcc53a7278>,\n",
       " <Gene b3731 at 0x7efcc53a7358>,\n",
       " <Gene b3737 at 0x7efcc53a7438>,\n",
       " <Gene b3739 at 0x7efcc53a7518>,\n",
       " <Gene b0720 at 0x7efcc53a75f8>,\n",
       " <Gene b0733 at 0x7efcc53a76d8>,\n",
       " <Gene b0979 at 0x7efcc53a77b8>,\n",
       " <Gene b0978 at 0x7efcc53a7898>,\n",
       " <Gene b0734 at 0x7efcc53a7940>,\n",
       " <Gene b2975 at 0x7efcc53a79e8>,\n",
       " <Gene b3603 at 0x7efcc53a7ac8>,\n",
       " <Gene b2779 at 0x7efcc53a7b70>,\n",
       " <Gene b1773 at 0x7efcc53a7c18>,\n",
       " <Gene b2925 at 0x7efcc53a7cf8>,\n",
       " <Gene b2097 at 0x7efcc53a7da0>,\n",
       " <Gene b4232 at 0x7efcc53a7e48>,\n",
       " <Gene b3925 at 0x7efcc53a7eb8>,\n",
       " <Gene b0904 at 0x7efcc53a7fd0>,\n",
       " <Gene b2492 at 0x7efcc53aa0f0>,\n",
       " <Gene b4154 at 0x7efcc53aa198>,\n",
       " <Gene b4152 at 0x7efcc53aa240>,\n",
       " <Gene b4153 at 0x7efcc53aa320>,\n",
       " <Gene b4151 at 0x7efcc53aa3c8>,\n",
       " <Gene b1819 at 0x7efcc53aa470>,\n",
       " <Gene b1817 at 0x7efcc53aa518>,\n",
       " <Gene b2415 at 0x7efcc53aa5c0>,\n",
       " <Gene b1818 at 0x7efcc53aa668>,\n",
       " <Gene b2416 at 0x7efcc53aa710>,\n",
       " <Gene b1611 at 0x7efcc53aa7b8>,\n",
       " <Gene b4122 at 0x7efcc53aa860>,\n",
       " <Gene b1612 at 0x7efcc53aa940>,\n",
       " <Gene b3528 at 0x7efcc53aa9e8>,\n",
       " <Gene b1852 at 0x7efcc53aaa90>,\n",
       " <Gene b1779 at 0x7efcc53aab38>,\n",
       " <Gene b1621 at 0x7efcc53aac18>,\n",
       " <Gene b1101 at 0x7efcc53aacc0>,\n",
       " <Gene b2417 at 0x7efcc53aad68>,\n",
       " <Gene b3870 at 0x7efcc53aae10>,\n",
       " <Gene b1297 at 0x7efcc53aaeb8>,\n",
       " <Gene b0809 at 0x7efcc53aaf98>,\n",
       " <Gene b0810 at 0x7efcc53ad080>,\n",
       " <Gene b0811 at 0x7efcc53ad128>,\n",
       " <Gene b1761 at 0x7efcc53ad1d0>,\n",
       " <Gene b1524 at 0x7efcc53ad2b0>,\n",
       " <Gene b1812 at 0x7efcc53ad390>,\n",
       " <Gene b0485 at 0x7efcc53ad438>,\n",
       " <Gene b3213 at 0x7efcc53ad4e0>,\n",
       " <Gene b3212 at 0x7efcc53ad588>,\n",
       " <Gene b4077 at 0x7efcc53ad630>,\n",
       " <Gene b2029 at 0x7efcc53ad748>,\n",
       " <Gene b0875 at 0x7efcc53ad7f0>,\n",
       " <Gene b1136 at 0x7efcc53ad8d0>,\n",
       " <Gene b4015 at 0x7efcc53ad978>,\n",
       " <Gene b2133 at 0x7efcc53ada58>,\n",
       " <Gene b1380 at 0x7efcc53adb00>,\n",
       " <Gene b4014 at 0x7efcc53adba8>,\n",
       " <Gene b2976 at 0x7efcc53adc50>,\n",
       " <Gene b3236 at 0x7efcc53adcf8>,\n",
       " <Gene b1479 at 0x7efcc53adda0>,\n",
       " <Gene b2463 at 0x7efcc53ade48>,\n",
       " <Gene b2286 at 0x7efcc53adef0>,\n",
       " <Gene b2279 at 0x7efcc53adf98>,\n",
       " <Gene b2276 at 0x7efcc53b1080>,\n",
       " <Gene b2280 at 0x7efcc53b1128>,\n",
       " <Gene b2288 at 0x7efcc53b11d0>,\n",
       " <Gene b2284 at 0x7efcc53b1278>,\n",
       " <Gene b2287 at 0x7efcc53b1320>,\n",
       " <Gene b2281 at 0x7efcc53b13c8>,\n",
       " <Gene b2277 at 0x7efcc53b1470>,\n",
       " <Gene b2285 at 0x7efcc53b1518>,\n",
       " <Gene b2282 at 0x7efcc53b15c0>,\n",
       " <Gene b2278 at 0x7efcc53b1668>,\n",
       " <Gene b2283 at 0x7efcc53b1710>,\n",
       " <Gene b3962 at 0x7efcc53b17b8>,\n",
       " <Gene b1602 at 0x7efcc53b1860>,\n",
       " <Gene b1603 at 0x7efcc53b1908>,\n",
       " <Gene b0451 at 0x7efcc53b19e8>,\n",
       " <Gene b0114 at 0x7efcc53b1ac8>,\n",
       " <Gene b0115 at 0x7efcc53b1b70>,\n",
       " <Gene b3916 at 0x7efcc53b1c18>,\n",
       " <Gene b1723 at 0x7efcc53b1c88>,\n",
       " <Gene b0902 at 0x7efcc53b1da0>,\n",
       " <Gene b0903 at 0x7efcc53b1e48>,\n",
       " <Gene b2579 at 0x7efcc53b1ef0>,\n",
       " <Gene b3114 at 0x7efcc53b1f98>,\n",
       " <Gene b3952 at 0x7efcc53b4080>,\n",
       " <Gene b3951 at 0x7efcc53b4128>,\n",
       " <Gene b4025 at 0x7efcc53b41d0>,\n",
       " <Gene b2926 at 0x7efcc53b4278>,\n",
       " <Gene b0767 at 0x7efcc53b4358>,\n",
       " <Gene b0755 at 0x7efcc53b4438>,\n",
       " <Gene b3612 at 0x7efcc53b44e0>,\n",
       " <Gene b4395 at 0x7efcc53b4588>,\n",
       " <Gene b3493 at 0x7efcc53b4630>,\n",
       " <Gene b2987 at 0x7efcc53b46d8>,\n",
       " <Gene b3956 at 0x7efcc53b4780>,\n",
       " <Gene b3403 at 0x7efcc53b4828>,\n",
       " <Gene b1702 at 0x7efcc53b4908>,\n",
       " <Gene b2297 at 0x7efcc53b49b0>,\n",
       " <Gene b2458 at 0x7efcc53b4a90>,\n",
       " <Gene b1676 at 0x7efcc53b4b70>,\n",
       " <Gene b1854 at 0x7efcc53b4be0>,\n",
       " <Gene b4301 at 0x7efcc53b4cf8>,\n",
       " <Gene b3386 at 0x7efcc53b4da0>,\n",
       " <Gene b2914 at 0x7efcc53b4e48>,\n",
       " <Gene b4090 at 0x7efcc53b4ef0>,\n",
       " <Gene b0722 at 0x7efcc53b4fd0>,\n",
       " <Gene b0724 at 0x7efcc53b80f0>,\n",
       " <Gene b0721 at 0x7efcc53b8160>,\n",
       " <Gene b0723 at 0x7efcc53b8278>,\n",
       " <Gene b0728 at 0x7efcc53b8320>,\n",
       " <Gene b0729 at 0x7efcc53b83c8>,\n",
       " <Gene b2464 at 0x7efcc53b84a8>,\n",
       " <Gene b0008 at 0x7efcc53b8588>,\n",
       " <Gene b2935 at 0x7efcc53b8630>,\n",
       " <Gene b2465 at 0x7efcc53b8710>,\n",
       " <Gene b3919 at 0x7efcc53b87f0>]"
      ]
     },
     "execution_count": 15,
     "metadata": {},
     "output_type": "execute_result"
    }
   ],
   "source": [
    "coremodel.genes"
   ]
  },
  {
   "cell_type": "code",
   "execution_count": 16,
   "metadata": {},
   "outputs": [
    {
     "data": {
      "text/plain": [
       "95"
      ]
     },
     "execution_count": 16,
     "metadata": {},
     "output_type": "execute_result"
    }
   ],
   "source": [
    "len(coremodel.reactions)"
   ]
  },
  {
   "cell_type": "code",
   "execution_count": 17,
   "metadata": {},
   "outputs": [
    {
     "data": {
      "text/plain": [
       "72"
      ]
     },
     "execution_count": 17,
     "metadata": {},
     "output_type": "execute_result"
    }
   ],
   "source": [
    "len(coremodel.metabolites)"
   ]
  },
  {
   "cell_type": "code",
   "execution_count": 18,
   "metadata": {},
   "outputs": [
    {
     "data": {
      "text/plain": [
       "137"
      ]
     },
     "execution_count": 18,
     "metadata": {},
     "output_type": "execute_result"
    }
   ],
   "source": [
    "len(coremodel.genes)"
   ]
  },
  {
   "cell_type": "markdown",
   "metadata": {},
   "source": [
    "### More details for a metabolite"
   ]
  },
  {
   "cell_type": "code",
   "execution_count": 19,
   "metadata": {},
   "outputs": [
    {
     "data": {
      "text/plain": [
       "-2"
      ]
     },
     "execution_count": 19,
     "metadata": {},
     "output_type": "execute_result"
    }
   ],
   "source": [
    "g6p_c.charge"
   ]
  },
  {
   "cell_type": "code",
   "execution_count": 20,
   "metadata": {},
   "outputs": [
    {
     "data": {
      "text/html": [
       "\n",
       "        <table>\n",
       "            <tr>\n",
       "                <td><strong>Metabolite identifier</strong></td><td>g6p_c</td>\n",
       "            </tr><tr>\n",
       "                <td><strong>Name</strong></td><td>D-Glucose 6-phosphate</td>\n",
       "            </tr><tr>\n",
       "                <td><strong>Memory address</strong></td>\n",
       "                <td>0x07efcc5401048</td>\n",
       "            </tr><tr>\n",
       "                <td><strong>Formula</strong></td><td>C6H11O9P</td>\n",
       "            </tr><tr>\n",
       "                <td><strong>Compartment</strong></td><td>c</td>\n",
       "            </tr><tr>\n",
       "                <td><strong>In 4 reaction(s)</strong></td><td>\n",
       "                    PGI, G6PDH2r, GLCpts, Biomass_Ecoli_core</td>\n",
       "            </tr>\n",
       "        </table>"
      ],
      "text/plain": [
       "<Metabolite g6p_c at 0x7efcc5401048>"
      ]
     },
     "execution_count": 20,
     "metadata": {},
     "output_type": "execute_result"
    }
   ],
   "source": [
    "g6p_c"
   ]
  },
  {
   "cell_type": "markdown",
   "metadata": {},
   "source": [
    "### Check mass-balance of reactions"
   ]
  },
  {
   "cell_type": "code",
   "execution_count": 21,
   "metadata": {},
   "outputs": [
    {
     "data": {
      "text/html": [
       "\n",
       "        <table>\n",
       "            <tr>\n",
       "                <td><strong>Reaction identifier</strong></td><td>PGI</td>\n",
       "            </tr><tr>\n",
       "                <td><strong>Name</strong></td><td>glucose-6-phosphate isomerase</td>\n",
       "            </tr><tr>\n",
       "                <td><strong>Memory address</strong></td>\n",
       "                <td>0x07efcc535ce10</td>\n",
       "            </tr><tr>\n",
       "                <td><strong>Stoichiometry</strong></td>\n",
       "                <td>\n",
       "                    <p style='text-align:right'>g6p_c <=> f6p_c</p>\n",
       "                    <p style='text-align:right'>D-Glucose 6-phosphate <=> D-Fructose 6-phosphate</p>\n",
       "                </td>\n",
       "            </tr><tr>\n",
       "                <td><strong>GPR</strong></td><td>b4025</td>\n",
       "            </tr><tr>\n",
       "                <td><strong>Lower bound</strong></td><td>-1000.0</td>\n",
       "            </tr><tr>\n",
       "                <td><strong>Upper bound</strong></td><td>1000.0</td>\n",
       "            </tr>\n",
       "        </table>\n",
       "        "
      ],
      "text/plain": [
       "<Reaction PGI at 0x7efcc535ce10>"
      ]
     },
     "execution_count": 21,
     "metadata": {},
     "output_type": "execute_result"
    }
   ],
   "source": [
    "pgi"
   ]
  },
  {
   "cell_type": "code",
   "execution_count": 22,
   "metadata": {},
   "outputs": [
    {
     "data": {
      "text/plain": [
       "{}"
      ]
     },
     "execution_count": 22,
     "metadata": {},
     "output_type": "execute_result"
    }
   ],
   "source": [
    "pgi.check_mass_balance()"
   ]
  },
  {
   "cell_type": "code",
   "execution_count": 23,
   "metadata": {},
   "outputs": [
    {
     "data": {
      "text/html": [
       "\n",
       "        <table>\n",
       "            <tr>\n",
       "                <td><strong>Metabolite identifier</strong></td><td>h_c</td>\n",
       "            </tr><tr>\n",
       "                <td><strong>Name</strong></td><td>H+</td>\n",
       "            </tr><tr>\n",
       "                <td><strong>Memory address</strong></td>\n",
       "                <td>0x07efcc538e860</td>\n",
       "            </tr><tr>\n",
       "                <td><strong>Formula</strong></td><td>H</td>\n",
       "            </tr><tr>\n",
       "                <td><strong>Compartment</strong></td><td>c</td>\n",
       "            </tr><tr>\n",
       "                <td><strong>In 35 reaction(s)</strong></td><td>\n",
       "                    G6PDH2r, MALt2_2, THD2, SUCCt2_2, ACALD, PGL, GLNS, ATPM, D_LACt2, Biomass_Ecoli_core, MDH, GLUDy, ACt2r, PPS, GAPD, PFK, SUCCt3, CYTBD, PYK, GLUSy, PIt2r, FUMt2_2, FORt2, NADH16, LDH_D, GLNabc, PY...</td>\n",
       "            </tr>\n",
       "        </table>"
      ],
      "text/plain": [
       "<Metabolite h_c at 0x7efcc538e860>"
      ]
     },
     "execution_count": 23,
     "metadata": {},
     "output_type": "execute_result"
    }
   ],
   "source": [
    "coremodel.metabolites.h_c"
   ]
  },
  {
   "cell_type": "code",
   "execution_count": 24,
   "metadata": {
    "collapsed": true
   },
   "outputs": [],
   "source": [
    "pgi.add_metabolites({coremodel.metabolites.get_by_id(\"h_c\") : -1})"
   ]
  },
  {
   "cell_type": "code",
   "execution_count": 25,
   "metadata": {},
   "outputs": [
    {
     "data": {
      "text/html": [
       "\n",
       "        <table>\n",
       "            <tr>\n",
       "                <td><strong>Reaction identifier</strong></td><td>PGI</td>\n",
       "            </tr><tr>\n",
       "                <td><strong>Name</strong></td><td>glucose-6-phosphate isomerase</td>\n",
       "            </tr><tr>\n",
       "                <td><strong>Memory address</strong></td>\n",
       "                <td>0x07efcc535ce10</td>\n",
       "            </tr><tr>\n",
       "                <td><strong>Stoichiometry</strong></td>\n",
       "                <td>\n",
       "                    <p style='text-align:right'>g6p_c + h_c <=> f6p_c</p>\n",
       "                    <p style='text-align:right'>D-Glucose 6-phosphate + H+ <=> D-Fructose 6-phosphate</p>\n",
       "                </td>\n",
       "            </tr><tr>\n",
       "                <td><strong>GPR</strong></td><td>b4025</td>\n",
       "            </tr><tr>\n",
       "                <td><strong>Lower bound</strong></td><td>-1000.0</td>\n",
       "            </tr><tr>\n",
       "                <td><strong>Upper bound</strong></td><td>1000.0</td>\n",
       "            </tr>\n",
       "        </table>\n",
       "        "
      ],
      "text/plain": [
       "<Reaction PGI at 0x7efcc535ce10>"
      ]
     },
     "execution_count": 25,
     "metadata": {},
     "output_type": "execute_result"
    }
   ],
   "source": [
    "pgi"
   ]
  },
  {
   "cell_type": "code",
   "execution_count": 26,
   "metadata": {},
   "outputs": [
    {
     "data": {
      "text/plain": [
       "{'H': -1.0, 'charge': -1.0}"
      ]
     },
     "execution_count": 26,
     "metadata": {},
     "output_type": "execute_result"
    }
   ],
   "source": [
    "pgi.check_mass_balance()"
   ]
  },
  {
   "cell_type": "code",
   "execution_count": 27,
   "metadata": {
    "collapsed": true
   },
   "outputs": [],
   "source": [
    "pgi.subtract_metabolites({coremodel.metabolites.get_by_id(\"h_c\") : -1})"
   ]
  },
  {
   "cell_type": "code",
   "execution_count": 28,
   "metadata": {},
   "outputs": [
    {
     "data": {
      "text/html": [
       "\n",
       "        <table>\n",
       "            <tr>\n",
       "                <td><strong>Reaction identifier</strong></td><td>PGI</td>\n",
       "            </tr><tr>\n",
       "                <td><strong>Name</strong></td><td>glucose-6-phosphate isomerase</td>\n",
       "            </tr><tr>\n",
       "                <td><strong>Memory address</strong></td>\n",
       "                <td>0x07efcc535ce10</td>\n",
       "            </tr><tr>\n",
       "                <td><strong>Stoichiometry</strong></td>\n",
       "                <td>\n",
       "                    <p style='text-align:right'>g6p_c <=> f6p_c</p>\n",
       "                    <p style='text-align:right'>D-Glucose 6-phosphate <=> D-Fructose 6-phosphate</p>\n",
       "                </td>\n",
       "            </tr><tr>\n",
       "                <td><strong>GPR</strong></td><td>b4025</td>\n",
       "            </tr><tr>\n",
       "                <td><strong>Lower bound</strong></td><td>-1000.0</td>\n",
       "            </tr><tr>\n",
       "                <td><strong>Upper bound</strong></td><td>1000.0</td>\n",
       "            </tr>\n",
       "        </table>\n",
       "        "
      ],
      "text/plain": [
       "<Reaction PGI at 0x7efcc535ce10>"
      ]
     },
     "execution_count": 28,
     "metadata": {},
     "output_type": "execute_result"
    }
   ],
   "source": [
    "pgi"
   ]
  },
  {
   "cell_type": "code",
   "execution_count": 29,
   "metadata": {},
   "outputs": [
    {
     "data": {
      "text/plain": [
       "{}"
      ]
     },
     "execution_count": 29,
     "metadata": {},
     "output_type": "execute_result"
    }
   ],
   "source": [
    "pgi.check_mass_balance()"
   ]
  },
  {
   "cell_type": "code",
   "execution_count": 30,
   "metadata": {},
   "outputs": [
    {
     "data": {
      "text/plain": [
       "[<Gene b1241 at 0x7efcc53a6390>,\n",
       " <Gene b0351 at 0x7efcc53a6438>,\n",
       " <Gene s0001 at 0x7efcc53a64e0>,\n",
       " <Gene b3115 at 0x7efcc53a6588>,\n",
       " <Gene b1849 at 0x7efcc53a6630>,\n",
       " <Gene b2296 at 0x7efcc53a66d8>,\n",
       " <Gene b1276 at 0x7efcc53a67b8>,\n",
       " <Gene b0118 at 0x7efcc53a6898>,\n",
       " <Gene b0474 at 0x7efcc53a6940>,\n",
       " <Gene b0116 at 0x7efcc53a69b0>,\n",
       " <Gene b0726 at 0x7efcc53a6ac8>,\n",
       " <Gene b0727 at 0x7efcc53a6b70>,\n",
       " <Gene b2587 at 0x7efcc53a6c18>,\n",
       " <Gene b0356 at 0x7efcc53a6cc0>,\n",
       " <Gene b1478 at 0x7efcc53a6d68>,\n",
       " <Gene b3735 at 0x7efcc53a6e10>,\n",
       " <Gene b3733 at 0x7efcc53a6eb8>,\n",
       " <Gene b3734 at 0x7efcc53a6f98>,\n",
       " <Gene b3732 at 0x7efcc53a70b8>,\n",
       " <Gene b3736 at 0x7efcc53a7198>,\n",
       " <Gene b3738 at 0x7efcc53a7278>,\n",
       " <Gene b3731 at 0x7efcc53a7358>,\n",
       " <Gene b3737 at 0x7efcc53a7438>,\n",
       " <Gene b3739 at 0x7efcc53a7518>,\n",
       " <Gene b0720 at 0x7efcc53a75f8>,\n",
       " <Gene b0733 at 0x7efcc53a76d8>,\n",
       " <Gene b0979 at 0x7efcc53a77b8>,\n",
       " <Gene b0978 at 0x7efcc53a7898>,\n",
       " <Gene b0734 at 0x7efcc53a7940>,\n",
       " <Gene b2975 at 0x7efcc53a79e8>,\n",
       " <Gene b3603 at 0x7efcc53a7ac8>,\n",
       " <Gene b2779 at 0x7efcc53a7b70>,\n",
       " <Gene b1773 at 0x7efcc53a7c18>,\n",
       " <Gene b2925 at 0x7efcc53a7cf8>,\n",
       " <Gene b2097 at 0x7efcc53a7da0>,\n",
       " <Gene b4232 at 0x7efcc53a7e48>,\n",
       " <Gene b3925 at 0x7efcc53a7eb8>,\n",
       " <Gene b0904 at 0x7efcc53a7fd0>,\n",
       " <Gene b2492 at 0x7efcc53aa0f0>,\n",
       " <Gene b4154 at 0x7efcc53aa198>,\n",
       " <Gene b4152 at 0x7efcc53aa240>,\n",
       " <Gene b4153 at 0x7efcc53aa320>,\n",
       " <Gene b4151 at 0x7efcc53aa3c8>,\n",
       " <Gene b1819 at 0x7efcc53aa470>,\n",
       " <Gene b1817 at 0x7efcc53aa518>,\n",
       " <Gene b2415 at 0x7efcc53aa5c0>,\n",
       " <Gene b1818 at 0x7efcc53aa668>,\n",
       " <Gene b2416 at 0x7efcc53aa710>,\n",
       " <Gene b1611 at 0x7efcc53aa7b8>,\n",
       " <Gene b4122 at 0x7efcc53aa860>,\n",
       " <Gene b1612 at 0x7efcc53aa940>,\n",
       " <Gene b3528 at 0x7efcc53aa9e8>,\n",
       " <Gene b1852 at 0x7efcc53aaa90>,\n",
       " <Gene b1779 at 0x7efcc53aab38>,\n",
       " <Gene b1621 at 0x7efcc53aac18>,\n",
       " <Gene b1101 at 0x7efcc53aacc0>,\n",
       " <Gene b2417 at 0x7efcc53aad68>,\n",
       " <Gene b3870 at 0x7efcc53aae10>,\n",
       " <Gene b1297 at 0x7efcc53aaeb8>,\n",
       " <Gene b0809 at 0x7efcc53aaf98>,\n",
       " <Gene b0810 at 0x7efcc53ad080>,\n",
       " <Gene b0811 at 0x7efcc53ad128>,\n",
       " <Gene b1761 at 0x7efcc53ad1d0>,\n",
       " <Gene b1524 at 0x7efcc53ad2b0>,\n",
       " <Gene b1812 at 0x7efcc53ad390>,\n",
       " <Gene b0485 at 0x7efcc53ad438>,\n",
       " <Gene b3213 at 0x7efcc53ad4e0>,\n",
       " <Gene b3212 at 0x7efcc53ad588>,\n",
       " <Gene b4077 at 0x7efcc53ad630>,\n",
       " <Gene b2029 at 0x7efcc53ad748>,\n",
       " <Gene b0875 at 0x7efcc53ad7f0>,\n",
       " <Gene b1136 at 0x7efcc53ad8d0>,\n",
       " <Gene b4015 at 0x7efcc53ad978>,\n",
       " <Gene b2133 at 0x7efcc53ada58>,\n",
       " <Gene b1380 at 0x7efcc53adb00>,\n",
       " <Gene b4014 at 0x7efcc53adba8>,\n",
       " <Gene b2976 at 0x7efcc53adc50>,\n",
       " <Gene b3236 at 0x7efcc53adcf8>,\n",
       " <Gene b1479 at 0x7efcc53adda0>,\n",
       " <Gene b2463 at 0x7efcc53ade48>,\n",
       " <Gene b2286 at 0x7efcc53adef0>,\n",
       " <Gene b2279 at 0x7efcc53adf98>,\n",
       " <Gene b2276 at 0x7efcc53b1080>,\n",
       " <Gene b2280 at 0x7efcc53b1128>,\n",
       " <Gene b2288 at 0x7efcc53b11d0>,\n",
       " <Gene b2284 at 0x7efcc53b1278>,\n",
       " <Gene b2287 at 0x7efcc53b1320>,\n",
       " <Gene b2281 at 0x7efcc53b13c8>,\n",
       " <Gene b2277 at 0x7efcc53b1470>,\n",
       " <Gene b2285 at 0x7efcc53b1518>,\n",
       " <Gene b2282 at 0x7efcc53b15c0>,\n",
       " <Gene b2278 at 0x7efcc53b1668>,\n",
       " <Gene b2283 at 0x7efcc53b1710>,\n",
       " <Gene b3962 at 0x7efcc53b17b8>,\n",
       " <Gene b1602 at 0x7efcc53b1860>,\n",
       " <Gene b1603 at 0x7efcc53b1908>,\n",
       " <Gene b0451 at 0x7efcc53b19e8>,\n",
       " <Gene b0114 at 0x7efcc53b1ac8>,\n",
       " <Gene b0115 at 0x7efcc53b1b70>,\n",
       " <Gene b3916 at 0x7efcc53b1c18>,\n",
       " <Gene b1723 at 0x7efcc53b1c88>,\n",
       " <Gene b0902 at 0x7efcc53b1da0>,\n",
       " <Gene b0903 at 0x7efcc53b1e48>,\n",
       " <Gene b2579 at 0x7efcc53b1ef0>,\n",
       " <Gene b3114 at 0x7efcc53b1f98>,\n",
       " <Gene b3952 at 0x7efcc53b4080>,\n",
       " <Gene b3951 at 0x7efcc53b4128>,\n",
       " <Gene b4025 at 0x7efcc53b41d0>,\n",
       " <Gene b2926 at 0x7efcc53b4278>,\n",
       " <Gene b0767 at 0x7efcc53b4358>,\n",
       " <Gene b0755 at 0x7efcc53b4438>,\n",
       " <Gene b3612 at 0x7efcc53b44e0>,\n",
       " <Gene b4395 at 0x7efcc53b4588>,\n",
       " <Gene b3493 at 0x7efcc53b4630>,\n",
       " <Gene b2987 at 0x7efcc53b46d8>,\n",
       " <Gene b3956 at 0x7efcc53b4780>,\n",
       " <Gene b3403 at 0x7efcc53b4828>,\n",
       " <Gene b1702 at 0x7efcc53b4908>,\n",
       " <Gene b2297 at 0x7efcc53b49b0>,\n",
       " <Gene b2458 at 0x7efcc53b4a90>,\n",
       " <Gene b1676 at 0x7efcc53b4b70>,\n",
       " <Gene b1854 at 0x7efcc53b4be0>,\n",
       " <Gene b4301 at 0x7efcc53b4cf8>,\n",
       " <Gene b3386 at 0x7efcc53b4da0>,\n",
       " <Gene b2914 at 0x7efcc53b4e48>,\n",
       " <Gene b4090 at 0x7efcc53b4ef0>,\n",
       " <Gene b0722 at 0x7efcc53b4fd0>,\n",
       " <Gene b0724 at 0x7efcc53b80f0>,\n",
       " <Gene b0721 at 0x7efcc53b8160>,\n",
       " <Gene b0723 at 0x7efcc53b8278>,\n",
       " <Gene b0728 at 0x7efcc53b8320>,\n",
       " <Gene b0729 at 0x7efcc53b83c8>,\n",
       " <Gene b2464 at 0x7efcc53b84a8>,\n",
       " <Gene b0008 at 0x7efcc53b8588>,\n",
       " <Gene b2935 at 0x7efcc53b8630>,\n",
       " <Gene b2465 at 0x7efcc53b8710>,\n",
       " <Gene b3919 at 0x7efcc53b87f0>]"
      ]
     },
     "execution_count": 30,
     "metadata": {},
     "output_type": "execute_result"
    }
   ],
   "source": [
    "coremodel.genes"
   ]
  },
  {
   "cell_type": "markdown",
   "metadata": {},
   "source": [
    "#### Genes"
   ]
  },
  {
   "cell_type": "code",
   "execution_count": 31,
   "metadata": {},
   "outputs": [
    {
     "data": {
      "text/plain": [
       "'b4025'"
      ]
     },
     "execution_count": 31,
     "metadata": {},
     "output_type": "execute_result"
    }
   ],
   "source": [
    "pgi.gene_reaction_rule"
   ]
  },
  {
   "cell_type": "code",
   "execution_count": 32,
   "metadata": {
    "collapsed": true
   },
   "outputs": [],
   "source": [
    "pgi.gene_reaction_rule = \"(b4025 or b0875)\""
   ]
  },
  {
   "cell_type": "code",
   "execution_count": 33,
   "metadata": {},
   "outputs": [
    {
     "data": {
      "text/html": [
       "\n",
       "        <table>\n",
       "            <tr>\n",
       "                <td><strong>Reaction identifier</strong></td><td>PGI</td>\n",
       "            </tr><tr>\n",
       "                <td><strong>Name</strong></td><td>glucose-6-phosphate isomerase</td>\n",
       "            </tr><tr>\n",
       "                <td><strong>Memory address</strong></td>\n",
       "                <td>0x07efcc535ce10</td>\n",
       "            </tr><tr>\n",
       "                <td><strong>Stoichiometry</strong></td>\n",
       "                <td>\n",
       "                    <p style='text-align:right'>g6p_c <=> f6p_c</p>\n",
       "                    <p style='text-align:right'>D-Glucose 6-phosphate <=> D-Fructose 6-phosphate</p>\n",
       "                </td>\n",
       "            </tr><tr>\n",
       "                <td><strong>GPR</strong></td><td>(b4025 or b0875)</td>\n",
       "            </tr><tr>\n",
       "                <td><strong>Lower bound</strong></td><td>-1000.0</td>\n",
       "            </tr><tr>\n",
       "                <td><strong>Upper bound</strong></td><td>1000.0</td>\n",
       "            </tr>\n",
       "        </table>\n",
       "        "
      ],
      "text/plain": [
       "<Reaction PGI at 0x7efcc535ce10>"
      ]
     },
     "execution_count": 33,
     "metadata": {},
     "output_type": "execute_result"
    }
   ],
   "source": [
    "pgi"
   ]
  },
  {
   "cell_type": "markdown",
   "metadata": {},
   "source": [
    "# Build models"
   ]
  },
  {
   "cell_type": "code",
   "execution_count": 34,
   "metadata": {
    "collapsed": true
   },
   "outputs": [],
   "source": [
    "from cobra import Model, Reaction, Metabolite"
   ]
  },
  {
   "cell_type": "code",
   "execution_count": 35,
   "metadata": {
    "collapsed": true
   },
   "outputs": [],
   "source": [
    "toymodel = Model(\"Toy Model\")"
   ]
  },
  {
   "cell_type": "code",
   "execution_count": 36,
   "metadata": {},
   "outputs": [
    {
     "data": {
      "text/html": [
       "\n",
       "        <table>\n",
       "            <tr>\n",
       "                <td><strong>Name</strong></td>\n",
       "                <td>Toy Model</td>\n",
       "            </tr><tr>\n",
       "                <td><strong>Memory address</strong></td>\n",
       "                <td>0x07efcc4dc82e8</td>\n",
       "            </tr><tr>\n",
       "                <td><strong>Number of metabolites</strong></td>\n",
       "                <td>0</td>\n",
       "            </tr><tr>\n",
       "                <td><strong>Number of reactions</strong></td>\n",
       "                <td>0</td>\n",
       "            </tr><tr>\n",
       "                <td><strong>Objective expression</strong></td>\n",
       "                <td>0</td>\n",
       "            </tr><tr>\n",
       "                <td><strong>Compartments</strong></td>\n",
       "                <td></td>\n",
       "            </tr>\n",
       "          </table>"
      ],
      "text/plain": [
       "<Model Toy Model at 0x7efcc4dc82e8>"
      ]
     },
     "execution_count": 36,
     "metadata": {},
     "output_type": "execute_result"
    }
   ],
   "source": [
    "toymodel"
   ]
  },
  {
   "cell_type": "code",
   "execution_count": 42,
   "metadata": {
    "collapsed": true
   },
   "outputs": [],
   "source": [
    "R5 = Reaction(\"R5\")"
   ]
  },
  {
   "cell_type": "code",
   "execution_count": 43,
   "metadata": {},
   "outputs": [],
   "source": [
    "ATP = Metabolite(\"ATP\")\n",
    "I = Metabolite(\"I\")\n",
    "B = Metabolite(\"B\")"
   ]
  },
  {
   "cell_type": "code",
   "execution_count": 45,
   "metadata": {},
   "outputs": [],
   "source": [
    "R5.add_metabolites({\n",
    "    I: -1.0,\n",
    "    ATP: -1.0,\n",
    "    B: 1.0\n",
    "})"
   ]
  },
  {
   "cell_type": "code",
   "execution_count": 46,
   "metadata": {},
   "outputs": [
    {
     "data": {
      "text/html": [
       "\n",
       "        <table>\n",
       "            <tr>\n",
       "                <td><strong>Reaction identifier</strong></td><td>R5</td>\n",
       "            </tr><tr>\n",
       "                <td><strong>Name</strong></td><td></td>\n",
       "            </tr><tr>\n",
       "                <td><strong>Memory address</strong></td>\n",
       "                <td>0x07efcc4e088d0</td>\n",
       "            </tr><tr>\n",
       "                <td><strong>Stoichiometry</strong></td>\n",
       "                <td>\n",
       "                    <p style='text-align:right'>ATP + I --> B</p>\n",
       "                    <p style='text-align:right'> +  --> </p>\n",
       "                </td>\n",
       "            </tr><tr>\n",
       "                <td><strong>GPR</strong></td><td></td>\n",
       "            </tr><tr>\n",
       "                <td><strong>Lower bound</strong></td><td>0.0</td>\n",
       "            </tr><tr>\n",
       "                <td><strong>Upper bound</strong></td><td>1000.0</td>\n",
       "            </tr>\n",
       "        </table>\n",
       "        "
      ],
      "text/plain": [
       "<Reaction R5 at 0x7efcc4e088d0>"
      ]
     },
     "execution_count": 46,
     "metadata": {},
     "output_type": "execute_result"
    }
   ],
   "source": [
    "R5"
   ]
  },
  {
   "cell_type": "code",
   "execution_count": 47,
   "metadata": {
    "collapsed": true
   },
   "outputs": [],
   "source": [
    "R5.lower_bound=-1000"
   ]
  },
  {
   "cell_type": "code",
   "execution_count": 48,
   "metadata": {},
   "outputs": [
    {
     "data": {
      "text/html": [
       "\n",
       "        <table>\n",
       "            <tr>\n",
       "                <td><strong>Reaction identifier</strong></td><td>R5</td>\n",
       "            </tr><tr>\n",
       "                <td><strong>Name</strong></td><td></td>\n",
       "            </tr><tr>\n",
       "                <td><strong>Memory address</strong></td>\n",
       "                <td>0x07efcc4e088d0</td>\n",
       "            </tr><tr>\n",
       "                <td><strong>Stoichiometry</strong></td>\n",
       "                <td>\n",
       "                    <p style='text-align:right'>ATP + I <=> B</p>\n",
       "                    <p style='text-align:right'> +  <=> </p>\n",
       "                </td>\n",
       "            </tr><tr>\n",
       "                <td><strong>GPR</strong></td><td></td>\n",
       "            </tr><tr>\n",
       "                <td><strong>Lower bound</strong></td><td>-1000</td>\n",
       "            </tr><tr>\n",
       "                <td><strong>Upper bound</strong></td><td>1000.0</td>\n",
       "            </tr>\n",
       "        </table>\n",
       "        "
      ],
      "text/plain": [
       "<Reaction R5 at 0x7efcc4e088d0>"
      ]
     },
     "execution_count": 48,
     "metadata": {},
     "output_type": "execute_result"
    }
   ],
   "source": [
    "R5"
   ]
  },
  {
   "cell_type": "code",
   "execution_count": 49,
   "metadata": {},
   "outputs": [
    {
     "data": {
      "text/html": [
       "\n",
       "        <table>\n",
       "            <tr>\n",
       "                <td><strong>Reaction identifier</strong></td><td>PGI</td>\n",
       "            </tr><tr>\n",
       "                <td><strong>Name</strong></td><td>glucose-6-phosphate isomerase</td>\n",
       "            </tr><tr>\n",
       "                <td><strong>Memory address</strong></td>\n",
       "                <td>0x07efcc535ce10</td>\n",
       "            </tr><tr>\n",
       "                <td><strong>Stoichiometry</strong></td>\n",
       "                <td>\n",
       "                    <p style='text-align:right'>g6p_c <=> f6p_c</p>\n",
       "                    <p style='text-align:right'>D-Glucose 6-phosphate <=> D-Fructose 6-phosphate</p>\n",
       "                </td>\n",
       "            </tr><tr>\n",
       "                <td><strong>GPR</strong></td><td>(b4025 or b0875)</td>\n",
       "            </tr><tr>\n",
       "                <td><strong>Lower bound</strong></td><td>-1000.0</td>\n",
       "            </tr><tr>\n",
       "                <td><strong>Upper bound</strong></td><td>1000.0</td>\n",
       "            </tr>\n",
       "        </table>\n",
       "        "
      ],
      "text/plain": [
       "<Reaction PGI at 0x7efcc535ce10>"
      ]
     },
     "execution_count": 49,
     "metadata": {},
     "output_type": "execute_result"
    }
   ],
   "source": [
    "pgi"
   ]
  },
  {
   "cell_type": "code",
   "execution_count": 51,
   "metadata": {},
   "outputs": [],
   "source": [
    "ATP.name=\"atp\""
   ]
  },
  {
   "cell_type": "code",
   "execution_count": 52,
   "metadata": {
    "collapsed": true
   },
   "outputs": [],
   "source": [
    "A.name=\"A\""
   ]
  },
  {
   "cell_type": "code",
   "execution_count": 53,
   "metadata": {
    "collapsed": true
   },
   "outputs": [],
   "source": [
    "I.name=\"I\""
   ]
  },
  {
   "cell_type": "code",
   "execution_count": 54,
   "metadata": {
    "collapsed": true
   },
   "outputs": [],
   "source": [
    "B.name=\"B\""
   ]
  },
  {
   "cell_type": "code",
   "execution_count": 55,
   "metadata": {},
   "outputs": [
    {
     "data": {
      "text/html": [
       "\n",
       "        <table>\n",
       "            <tr>\n",
       "                <td><strong>Reaction identifier</strong></td><td>R5</td>\n",
       "            </tr><tr>\n",
       "                <td><strong>Name</strong></td><td></td>\n",
       "            </tr><tr>\n",
       "                <td><strong>Memory address</strong></td>\n",
       "                <td>0x07efcc4e088d0</td>\n",
       "            </tr><tr>\n",
       "                <td><strong>Stoichiometry</strong></td>\n",
       "                <td>\n",
       "                    <p style='text-align:right'>ATP + I <=> B</p>\n",
       "                    <p style='text-align:right'>atp + I <=> B</p>\n",
       "                </td>\n",
       "            </tr><tr>\n",
       "                <td><strong>GPR</strong></td><td></td>\n",
       "            </tr><tr>\n",
       "                <td><strong>Lower bound</strong></td><td>-1000</td>\n",
       "            </tr><tr>\n",
       "                <td><strong>Upper bound</strong></td><td>1000.0</td>\n",
       "            </tr>\n",
       "        </table>\n",
       "        "
      ],
      "text/plain": [
       "<Reaction R5 at 0x7efcc4e088d0>"
      ]
     },
     "execution_count": 55,
     "metadata": {},
     "output_type": "execute_result"
    }
   ],
   "source": [
    "R5"
   ]
  },
  {
   "cell_type": "code",
   "execution_count": 56,
   "metadata": {
    "collapsed": true
   },
   "outputs": [],
   "source": [
    "R5.gene_reaction_rule = \"(G1)\""
   ]
  },
  {
   "cell_type": "code",
   "execution_count": 57,
   "metadata": {},
   "outputs": [
    {
     "data": {
      "text/html": [
       "\n",
       "        <table>\n",
       "            <tr>\n",
       "                <td><strong>Reaction identifier</strong></td><td>R5</td>\n",
       "            </tr><tr>\n",
       "                <td><strong>Name</strong></td><td></td>\n",
       "            </tr><tr>\n",
       "                <td><strong>Memory address</strong></td>\n",
       "                <td>0x07efcc4e088d0</td>\n",
       "            </tr><tr>\n",
       "                <td><strong>Stoichiometry</strong></td>\n",
       "                <td>\n",
       "                    <p style='text-align:right'>ATP + I <=> B</p>\n",
       "                    <p style='text-align:right'>atp + I <=> B</p>\n",
       "                </td>\n",
       "            </tr><tr>\n",
       "                <td><strong>GPR</strong></td><td>(G1)</td>\n",
       "            </tr><tr>\n",
       "                <td><strong>Lower bound</strong></td><td>-1000</td>\n",
       "            </tr><tr>\n",
       "                <td><strong>Upper bound</strong></td><td>1000.0</td>\n",
       "            </tr>\n",
       "        </table>\n",
       "        "
      ],
      "text/plain": [
       "<Reaction R5 at 0x7efcc4e088d0>"
      ]
     },
     "execution_count": 57,
     "metadata": {},
     "output_type": "execute_result"
    }
   ],
   "source": [
    "R5"
   ]
  },
  {
   "cell_type": "code",
   "execution_count": 58,
   "metadata": {},
   "outputs": [
    {
     "data": {
      "text/html": [
       "\n",
       "        <table>\n",
       "            <tr>\n",
       "                <td><strong>Name</strong></td>\n",
       "                <td>Toy Model</td>\n",
       "            </tr><tr>\n",
       "                <td><strong>Memory address</strong></td>\n",
       "                <td>0x07efcc4dc82e8</td>\n",
       "            </tr><tr>\n",
       "                <td><strong>Number of metabolites</strong></td>\n",
       "                <td>0</td>\n",
       "            </tr><tr>\n",
       "                <td><strong>Number of reactions</strong></td>\n",
       "                <td>0</td>\n",
       "            </tr><tr>\n",
       "                <td><strong>Objective expression</strong></td>\n",
       "                <td>0</td>\n",
       "            </tr><tr>\n",
       "                <td><strong>Compartments</strong></td>\n",
       "                <td></td>\n",
       "            </tr>\n",
       "          </table>"
      ],
      "text/plain": [
       "<Model Toy Model at 0x7efcc4dc82e8>"
      ]
     },
     "execution_count": 58,
     "metadata": {},
     "output_type": "execute_result"
    }
   ],
   "source": [
    "toymodel"
   ]
  },
  {
   "cell_type": "code",
   "execution_count": 59,
   "metadata": {
    "collapsed": true
   },
   "outputs": [],
   "source": [
    "toymodel.add_reaction(R5)"
   ]
  },
  {
   "cell_type": "code",
   "execution_count": 60,
   "metadata": {},
   "outputs": [
    {
     "data": {
      "text/html": [
       "\n",
       "        <table>\n",
       "            <tr>\n",
       "                <td><strong>Name</strong></td>\n",
       "                <td>Toy Model</td>\n",
       "            </tr><tr>\n",
       "                <td><strong>Memory address</strong></td>\n",
       "                <td>0x07efcc4dc82e8</td>\n",
       "            </tr><tr>\n",
       "                <td><strong>Number of metabolites</strong></td>\n",
       "                <td>3</td>\n",
       "            </tr><tr>\n",
       "                <td><strong>Number of reactions</strong></td>\n",
       "                <td>1</td>\n",
       "            </tr><tr>\n",
       "                <td><strong>Objective expression</strong></td>\n",
       "                <td>0</td>\n",
       "            </tr><tr>\n",
       "                <td><strong>Compartments</strong></td>\n",
       "                <td></td>\n",
       "            </tr>\n",
       "          </table>"
      ],
      "text/plain": [
       "<Model Toy Model at 0x7efcc4dc82e8>"
      ]
     },
     "execution_count": 60,
     "metadata": {},
     "output_type": "execute_result"
    }
   ],
   "source": [
    "toymodel"
   ]
  },
  {
   "cell_type": "code",
   "execution_count": 61,
   "metadata": {},
   "outputs": [
    {
     "data": {
      "text/plain": [
       "[<Gene G1 at 0x7efcc4f2db70>]"
      ]
     },
     "execution_count": 61,
     "metadata": {},
     "output_type": "execute_result"
    }
   ],
   "source": [
    "toymodel.genes"
   ]
  },
  {
   "cell_type": "code",
   "execution_count": 62,
   "metadata": {
    "collapsed": true
   },
   "outputs": [],
   "source": [
    "toymodel.add_reaction(pgi)"
   ]
  },
  {
   "cell_type": "code",
   "execution_count": 63,
   "metadata": {},
   "outputs": [
    {
     "data": {
      "text/html": [
       "\n",
       "        <table>\n",
       "            <tr>\n",
       "                <td><strong>Name</strong></td>\n",
       "                <td>Toy Model</td>\n",
       "            </tr><tr>\n",
       "                <td><strong>Memory address</strong></td>\n",
       "                <td>0x07efcc4dc82e8</td>\n",
       "            </tr><tr>\n",
       "                <td><strong>Number of metabolites</strong></td>\n",
       "                <td>5</td>\n",
       "            </tr><tr>\n",
       "                <td><strong>Number of reactions</strong></td>\n",
       "                <td>2</td>\n",
       "            </tr><tr>\n",
       "                <td><strong>Objective expression</strong></td>\n",
       "                <td>0</td>\n",
       "            </tr><tr>\n",
       "                <td><strong>Compartments</strong></td>\n",
       "                <td>c</td>\n",
       "            </tr>\n",
       "          </table>"
      ],
      "text/plain": [
       "<Model Toy Model at 0x7efcc4dc82e8>"
      ]
     },
     "execution_count": 63,
     "metadata": {},
     "output_type": "execute_result"
    }
   ],
   "source": [
    "toymodel"
   ]
  },
  {
   "cell_type": "code",
   "execution_count": 64,
   "metadata": {},
   "outputs": [
    {
     "data": {
      "text/plain": [
       "[<Reaction R5 at 0x7efcc4e088d0>, <Reaction PGI at 0x7efcc535ce10>]"
      ]
     },
     "execution_count": 64,
     "metadata": {},
     "output_type": "execute_result"
    }
   ],
   "source": [
    "toymodel.reactions"
   ]
  },
  {
   "cell_type": "code",
   "execution_count": 65,
   "metadata": {},
   "outputs": [
    {
     "data": {
      "text/plain": [
       "[<Metabolite B at 0x7efcc4e3f240>,\n",
       " <Metabolite ATP at 0x7efcc4e48240>,\n",
       " <Metabolite I at 0x7efcc4e48be0>,\n",
       " <Metabolite f6p_c at 0x7efcc5403908>,\n",
       " <Metabolite g6p_c at 0x7efcc5401048>]"
      ]
     },
     "execution_count": 65,
     "metadata": {},
     "output_type": "execute_result"
    }
   ],
   "source": [
    "toymodel.metabolites"
   ]
  },
  {
   "cell_type": "code",
   "execution_count": 66,
   "metadata": {},
   "outputs": [
    {
     "data": {
      "text/plain": [
       "[<Gene G1 at 0x7efcc4f2db70>,\n",
       " <Gene b4025 at 0x7efcc53b41d0>,\n",
       " <Gene b0875 at 0x7efcc53ad7f0>]"
      ]
     },
     "execution_count": 66,
     "metadata": {},
     "output_type": "execute_result"
    }
   ],
   "source": [
    "toymodel.genes"
   ]
  },
  {
   "cell_type": "code",
   "execution_count": 67,
   "metadata": {
    "collapsed": true
   },
   "outputs": [],
   "source": [
    "A.compartment=\"c\""
   ]
  },
  {
   "cell_type": "code",
   "execution_count": 68,
   "metadata": {
    "collapsed": true
   },
   "outputs": [],
   "source": [
    "I.compartment=\"c\""
   ]
  },
  {
   "cell_type": "code",
   "execution_count": 69,
   "metadata": {
    "collapsed": true
   },
   "outputs": [],
   "source": [
    "ATP.compartment=\"p\""
   ]
  },
  {
   "cell_type": "code",
   "execution_count": 70,
   "metadata": {
    "collapsed": true
   },
   "outputs": [],
   "source": [
    "B.compartment=\"c\""
   ]
  },
  {
   "cell_type": "code",
   "execution_count": 71,
   "metadata": {},
   "outputs": [
    {
     "data": {
      "text/html": [
       "\n",
       "        <table>\n",
       "            <tr>\n",
       "                <td><strong>Name</strong></td>\n",
       "                <td>Toy Model</td>\n",
       "            </tr><tr>\n",
       "                <td><strong>Memory address</strong></td>\n",
       "                <td>0x07efcc4dc82e8</td>\n",
       "            </tr><tr>\n",
       "                <td><strong>Number of metabolites</strong></td>\n",
       "                <td>5</td>\n",
       "            </tr><tr>\n",
       "                <td><strong>Number of reactions</strong></td>\n",
       "                <td>2</td>\n",
       "            </tr><tr>\n",
       "                <td><strong>Objective expression</strong></td>\n",
       "                <td>0</td>\n",
       "            </tr><tr>\n",
       "                <td><strong>Compartments</strong></td>\n",
       "                <td>c, p</td>\n",
       "            </tr>\n",
       "          </table>"
      ],
      "text/plain": [
       "<Model Toy Model at 0x7efcc4dc82e8>"
      ]
     },
     "execution_count": 71,
     "metadata": {},
     "output_type": "execute_result"
    }
   ],
   "source": [
    "toymodel"
   ]
  },
  {
   "cell_type": "code",
   "execution_count": 72,
   "metadata": {},
   "outputs": [
    {
     "data": {
      "text/plain": [
       "<optlang.glpk_interface.Objective at 0x7efcc4d9c9b0>"
      ]
     },
     "execution_count": 72,
     "metadata": {},
     "output_type": "execute_result"
    }
   ],
   "source": [
    "toymodel.objective"
   ]
  },
  {
   "cell_type": "code",
   "execution_count": 73,
   "metadata": {
    "collapsed": true
   },
   "outputs": [],
   "source": [
    "toymodel.objective=\"PGI\""
   ]
  },
  {
   "cell_type": "code",
   "execution_count": 75,
   "metadata": {},
   "outputs": [
    {
     "data": {
      "text/plain": [
       "1.0*PGI - 1.0*PGI_reverse_27efc"
      ]
     },
     "execution_count": 75,
     "metadata": {},
     "output_type": "execute_result"
    }
   ],
   "source": [
    "toymodel.objective.expression"
   ]
  },
  {
   "cell_type": "code",
   "execution_count": 76,
   "metadata": {
    "collapsed": true
   },
   "outputs": [],
   "source": [
    "toymodel.reactions.PGI.lower_bound=0.0"
   ]
  },
  {
   "cell_type": "code",
   "execution_count": 77,
   "metadata": {},
   "outputs": [
    {
     "data": {
      "text/plain": [
       "1.0*PGI - 1.0*PGI_reverse_27efc"
      ]
     },
     "execution_count": 77,
     "metadata": {},
     "output_type": "execute_result"
    }
   ],
   "source": [
    "toymodel.objective.expression"
   ]
  },
  {
   "cell_type": "code",
   "execution_count": 78,
   "metadata": {},
   "outputs": [
    {
     "data": {
      "text/plain": [
       "-1.0*Biomass_Ecoli_core_reverse_2cdba + 1.0*Biomass_Ecoli_core"
      ]
     },
     "execution_count": 78,
     "metadata": {},
     "output_type": "execute_result"
    }
   ],
   "source": [
    "coremodel.objective.expression"
   ]
  },
  {
   "cell_type": "code",
   "execution_count": 80,
   "metadata": {},
   "outputs": [],
   "source": [
    "coremodel.objective.direction = \"min\""
   ]
  },
  {
   "cell_type": "code",
   "execution_count": 81,
   "metadata": {},
   "outputs": [
    {
     "data": {
      "text/plain": [
       "'min'"
      ]
     },
     "execution_count": 81,
     "metadata": {},
     "output_type": "execute_result"
    }
   ],
   "source": [
    "coremodel.objective.direction"
   ]
  },
  {
   "cell_type": "code",
   "execution_count": 82,
   "metadata": {
    "collapsed": true
   },
   "outputs": [],
   "source": [
    "coremodel.objective.direction = 'max'"
   ]
  },
  {
   "cell_type": "code",
   "execution_count": 83,
   "metadata": {},
   "outputs": [
    {
     "data": {
      "text/plain": [
       "'max'"
      ]
     },
     "execution_count": 83,
     "metadata": {},
     "output_type": "execute_result"
    }
   ],
   "source": [
    "coremodel.objective.direction"
   ]
  },
  {
   "cell_type": "markdown",
   "metadata": {},
   "source": [
    "# Flux Balance Analysis"
   ]
  },
  {
   "cell_type": "code",
   "execution_count": 93,
   "metadata": {
    "collapsed": true
   },
   "outputs": [],
   "source": [
    "solution=coremodel.optimize()"
   ]
  },
  {
   "cell_type": "code",
   "execution_count": 94,
   "metadata": {},
   "outputs": [
    {
     "name": "stdout",
     "output_type": "stream",
     "text": [
      "<Solution 0.874 at 0x7efcc524f2b0>\n"
     ]
    }
   ],
   "source": [
    "print(solution)"
   ]
  },
  {
   "cell_type": "code",
   "execution_count": 97,
   "metadata": {},
   "outputs": [
    {
     "name": "stdout",
     "output_type": "stream",
     "text": [
      "IN FLUXES        OUT FLUXES    OBJECTIVES\n",
      "---------------  ------------  ----------------------\n",
      "o2_e      21.8   h2o_e  29.2   Biomass_Ecol...  0.874\n",
      "glc__D_e  10     co2_e  22.8\n",
      "nh4_e      4.77  h_e    17.5\n",
      "pi_e       3.21\n"
     ]
    }
   ],
   "source": [
    "coremodel.summary()"
   ]
  },
  {
   "cell_type": "code",
   "execution_count": 103,
   "metadata": {},
   "outputs": [],
   "source": [
    "from cobra.flux_analysis import flux_variability_analysis"
   ]
  },
  {
   "cell_type": "code",
   "execution_count": 104,
   "metadata": {},
   "outputs": [
    {
     "data": {
      "text/html": [
       "<div>\n",
       "<table border=\"1\" class=\"dataframe\">\n",
       "  <thead>\n",
       "    <tr style=\"text-align: right;\">\n",
       "      <th></th>\n",
       "      <th>maximum</th>\n",
       "      <th>minimum</th>\n",
       "    </tr>\n",
       "  </thead>\n",
       "  <tbody>\n",
       "    <tr>\n",
       "      <th>ACALD</th>\n",
       "      <td>0.000000e+00</td>\n",
       "      <td>0.000000</td>\n",
       "    </tr>\n",
       "    <tr>\n",
       "      <th>ACALDt</th>\n",
       "      <td>0.000000e+00</td>\n",
       "      <td>0.000000</td>\n",
       "    </tr>\n",
       "    <tr>\n",
       "      <th>ACKr</th>\n",
       "      <td>0.000000e+00</td>\n",
       "      <td>0.000000</td>\n",
       "    </tr>\n",
       "    <tr>\n",
       "      <th>ACONTa</th>\n",
       "      <td>6.007250e+00</td>\n",
       "      <td>6.007250</td>\n",
       "    </tr>\n",
       "    <tr>\n",
       "      <th>ACONTb</th>\n",
       "      <td>6.007250e+00</td>\n",
       "      <td>6.007250</td>\n",
       "    </tr>\n",
       "    <tr>\n",
       "      <th>ACt2r</th>\n",
       "      <td>0.000000e+00</td>\n",
       "      <td>0.000000</td>\n",
       "    </tr>\n",
       "    <tr>\n",
       "      <th>ADK1</th>\n",
       "      <td>0.000000e+00</td>\n",
       "      <td>0.000000</td>\n",
       "    </tr>\n",
       "    <tr>\n",
       "      <th>AKGDH</th>\n",
       "      <td>5.064376e+00</td>\n",
       "      <td>5.064376</td>\n",
       "    </tr>\n",
       "    <tr>\n",
       "      <th>AKGt2r</th>\n",
       "      <td>0.000000e+00</td>\n",
       "      <td>0.000000</td>\n",
       "    </tr>\n",
       "    <tr>\n",
       "      <th>ALCD2x</th>\n",
       "      <td>0.000000e+00</td>\n",
       "      <td>0.000000</td>\n",
       "    </tr>\n",
       "    <tr>\n",
       "      <th>ATPM</th>\n",
       "      <td>8.390000e+00</td>\n",
       "      <td>8.390000</td>\n",
       "    </tr>\n",
       "    <tr>\n",
       "      <th>ATPS4r</th>\n",
       "      <td>4.551401e+01</td>\n",
       "      <td>45.514010</td>\n",
       "    </tr>\n",
       "    <tr>\n",
       "      <th>Biomass_Ecoli_core</th>\n",
       "      <td>8.739215e-01</td>\n",
       "      <td>0.873922</td>\n",
       "    </tr>\n",
       "    <tr>\n",
       "      <th>CO2t</th>\n",
       "      <td>-2.280983e+01</td>\n",
       "      <td>-22.809833</td>\n",
       "    </tr>\n",
       "    <tr>\n",
       "      <th>CS</th>\n",
       "      <td>6.007250e+00</td>\n",
       "      <td>6.007250</td>\n",
       "    </tr>\n",
       "    <tr>\n",
       "      <th>CYTBD</th>\n",
       "      <td>4.359899e+01</td>\n",
       "      <td>43.598985</td>\n",
       "    </tr>\n",
       "    <tr>\n",
       "      <th>D_LACt2</th>\n",
       "      <td>0.000000e+00</td>\n",
       "      <td>0.000000</td>\n",
       "    </tr>\n",
       "    <tr>\n",
       "      <th>ENO</th>\n",
       "      <td>1.471614e+01</td>\n",
       "      <td>14.716140</td>\n",
       "    </tr>\n",
       "    <tr>\n",
       "      <th>ETOHt2r</th>\n",
       "      <td>0.000000e+00</td>\n",
       "      <td>0.000000</td>\n",
       "    </tr>\n",
       "    <tr>\n",
       "      <th>EX_ac_e</th>\n",
       "      <td>0.000000e+00</td>\n",
       "      <td>0.000000</td>\n",
       "    </tr>\n",
       "    <tr>\n",
       "      <th>EX_acald_e</th>\n",
       "      <td>0.000000e+00</td>\n",
       "      <td>0.000000</td>\n",
       "    </tr>\n",
       "    <tr>\n",
       "      <th>EX_akg_e</th>\n",
       "      <td>0.000000e+00</td>\n",
       "      <td>0.000000</td>\n",
       "    </tr>\n",
       "    <tr>\n",
       "      <th>EX_co2_e</th>\n",
       "      <td>2.280983e+01</td>\n",
       "      <td>22.809833</td>\n",
       "    </tr>\n",
       "    <tr>\n",
       "      <th>EX_etoh_e</th>\n",
       "      <td>0.000000e+00</td>\n",
       "      <td>0.000000</td>\n",
       "    </tr>\n",
       "    <tr>\n",
       "      <th>EX_for_e</th>\n",
       "      <td>0.000000e+00</td>\n",
       "      <td>0.000000</td>\n",
       "    </tr>\n",
       "    <tr>\n",
       "      <th>EX_fru_e</th>\n",
       "      <td>0.000000e+00</td>\n",
       "      <td>0.000000</td>\n",
       "    </tr>\n",
       "    <tr>\n",
       "      <th>EX_fum_e</th>\n",
       "      <td>0.000000e+00</td>\n",
       "      <td>0.000000</td>\n",
       "    </tr>\n",
       "    <tr>\n",
       "      <th>EX_glc__D_e</th>\n",
       "      <td>-1.000000e+01</td>\n",
       "      <td>-10.000000</td>\n",
       "    </tr>\n",
       "    <tr>\n",
       "      <th>EX_gln__L_e</th>\n",
       "      <td>0.000000e+00</td>\n",
       "      <td>0.000000</td>\n",
       "    </tr>\n",
       "    <tr>\n",
       "      <th>EX_glu__L_e</th>\n",
       "      <td>0.000000e+00</td>\n",
       "      <td>0.000000</td>\n",
       "    </tr>\n",
       "    <tr>\n",
       "      <th>...</th>\n",
       "      <td>...</td>\n",
       "      <td>...</td>\n",
       "    </tr>\n",
       "    <tr>\n",
       "      <th>ME2</th>\n",
       "      <td>-1.162731e-13</td>\n",
       "      <td>0.000000</td>\n",
       "    </tr>\n",
       "    <tr>\n",
       "      <th>NADH16</th>\n",
       "      <td>3.853461e+01</td>\n",
       "      <td>38.534610</td>\n",
       "    </tr>\n",
       "    <tr>\n",
       "      <th>NADTRHD</th>\n",
       "      <td>-3.488192e-13</td>\n",
       "      <td>0.000000</td>\n",
       "    </tr>\n",
       "    <tr>\n",
       "      <th>NH4t</th>\n",
       "      <td>4.765319e+00</td>\n",
       "      <td>4.765319</td>\n",
       "    </tr>\n",
       "    <tr>\n",
       "      <th>O2t</th>\n",
       "      <td>2.179949e+01</td>\n",
       "      <td>21.799493</td>\n",
       "    </tr>\n",
       "    <tr>\n",
       "      <th>PDH</th>\n",
       "      <td>9.282533e+00</td>\n",
       "      <td>9.282533</td>\n",
       "    </tr>\n",
       "    <tr>\n",
       "      <th>PFK</th>\n",
       "      <td>7.477382e+00</td>\n",
       "      <td>7.477382</td>\n",
       "    </tr>\n",
       "    <tr>\n",
       "      <th>PFL</th>\n",
       "      <td>-5.813653e-14</td>\n",
       "      <td>0.000000</td>\n",
       "    </tr>\n",
       "    <tr>\n",
       "      <th>PGI</th>\n",
       "      <td>0.000000e+00</td>\n",
       "      <td>0.000000</td>\n",
       "    </tr>\n",
       "    <tr>\n",
       "      <th>PGK</th>\n",
       "      <td>-1.602353e+01</td>\n",
       "      <td>-16.023526</td>\n",
       "    </tr>\n",
       "    <tr>\n",
       "      <th>PGL</th>\n",
       "      <td>4.959985e+00</td>\n",
       "      <td>4.959985</td>\n",
       "    </tr>\n",
       "    <tr>\n",
       "      <th>PGM</th>\n",
       "      <td>-1.471614e+01</td>\n",
       "      <td>-14.716140</td>\n",
       "    </tr>\n",
       "    <tr>\n",
       "      <th>PIt2r</th>\n",
       "      <td>3.214895e+00</td>\n",
       "      <td>3.214895</td>\n",
       "    </tr>\n",
       "    <tr>\n",
       "      <th>PPC</th>\n",
       "      <td>2.504309e+00</td>\n",
       "      <td>2.504309</td>\n",
       "    </tr>\n",
       "    <tr>\n",
       "      <th>PPCK</th>\n",
       "      <td>-8.720480e-14</td>\n",
       "      <td>0.000000</td>\n",
       "    </tr>\n",
       "    <tr>\n",
       "      <th>PPS</th>\n",
       "      <td>-8.720480e-14</td>\n",
       "      <td>0.000000</td>\n",
       "    </tr>\n",
       "    <tr>\n",
       "      <th>PTAr</th>\n",
       "      <td>-1.937884e-14</td>\n",
       "      <td>0.000000</td>\n",
       "    </tr>\n",
       "    <tr>\n",
       "      <th>PYK</th>\n",
       "      <td>1.758177e+00</td>\n",
       "      <td>1.758177</td>\n",
       "    </tr>\n",
       "    <tr>\n",
       "      <th>PYRt2</th>\n",
       "      <td>0.000000e+00</td>\n",
       "      <td>0.000000</td>\n",
       "    </tr>\n",
       "    <tr>\n",
       "      <th>RPE</th>\n",
       "      <td>2.678482e+00</td>\n",
       "      <td>2.678482</td>\n",
       "    </tr>\n",
       "    <tr>\n",
       "      <th>RPI</th>\n",
       "      <td>-2.281503e+00</td>\n",
       "      <td>-2.281503</td>\n",
       "    </tr>\n",
       "    <tr>\n",
       "      <th>SUCCt2_2</th>\n",
       "      <td>-1.162731e-13</td>\n",
       "      <td>0.000000</td>\n",
       "    </tr>\n",
       "    <tr>\n",
       "      <th>SUCCt3</th>\n",
       "      <td>-1.162731e-13</td>\n",
       "      <td>0.000000</td>\n",
       "    </tr>\n",
       "    <tr>\n",
       "      <th>SUCDi</th>\n",
       "      <td>1.000000e+03</td>\n",
       "      <td>5.064376</td>\n",
       "    </tr>\n",
       "    <tr>\n",
       "      <th>SUCOAS</th>\n",
       "      <td>-5.064376e+00</td>\n",
       "      <td>-5.064376</td>\n",
       "    </tr>\n",
       "    <tr>\n",
       "      <th>TALA</th>\n",
       "      <td>1.496984e+00</td>\n",
       "      <td>1.496984</td>\n",
       "    </tr>\n",
       "    <tr>\n",
       "      <th>THD2</th>\n",
       "      <td>-3.488192e-13</td>\n",
       "      <td>0.000000</td>\n",
       "    </tr>\n",
       "    <tr>\n",
       "      <th>TKT1</th>\n",
       "      <td>1.496984e+00</td>\n",
       "      <td>1.496984</td>\n",
       "    </tr>\n",
       "    <tr>\n",
       "      <th>TKT2</th>\n",
       "      <td>1.181498e+00</td>\n",
       "      <td>1.181498</td>\n",
       "    </tr>\n",
       "    <tr>\n",
       "      <th>TPI</th>\n",
       "      <td>7.477382e+00</td>\n",
       "      <td>7.477382</td>\n",
       "    </tr>\n",
       "  </tbody>\n",
       "</table>\n",
       "<p>95 rows × 2 columns</p>\n",
       "</div>"
      ],
      "text/plain": [
       "                         maximum    minimum\n",
       "ACALD               0.000000e+00   0.000000\n",
       "ACALDt              0.000000e+00   0.000000\n",
       "ACKr                0.000000e+00   0.000000\n",
       "ACONTa              6.007250e+00   6.007250\n",
       "ACONTb              6.007250e+00   6.007250\n",
       "ACt2r               0.000000e+00   0.000000\n",
       "ADK1                0.000000e+00   0.000000\n",
       "AKGDH               5.064376e+00   5.064376\n",
       "AKGt2r              0.000000e+00   0.000000\n",
       "ALCD2x              0.000000e+00   0.000000\n",
       "ATPM                8.390000e+00   8.390000\n",
       "ATPS4r              4.551401e+01  45.514010\n",
       "Biomass_Ecoli_core  8.739215e-01   0.873922\n",
       "CO2t               -2.280983e+01 -22.809833\n",
       "CS                  6.007250e+00   6.007250\n",
       "CYTBD               4.359899e+01  43.598985\n",
       "D_LACt2             0.000000e+00   0.000000\n",
       "ENO                 1.471614e+01  14.716140\n",
       "ETOHt2r             0.000000e+00   0.000000\n",
       "EX_ac_e             0.000000e+00   0.000000\n",
       "EX_acald_e          0.000000e+00   0.000000\n",
       "EX_akg_e            0.000000e+00   0.000000\n",
       "EX_co2_e            2.280983e+01  22.809833\n",
       "EX_etoh_e           0.000000e+00   0.000000\n",
       "EX_for_e            0.000000e+00   0.000000\n",
       "EX_fru_e            0.000000e+00   0.000000\n",
       "EX_fum_e            0.000000e+00   0.000000\n",
       "EX_glc__D_e        -1.000000e+01 -10.000000\n",
       "EX_gln__L_e         0.000000e+00   0.000000\n",
       "EX_glu__L_e         0.000000e+00   0.000000\n",
       "...                          ...        ...\n",
       "ME2                -1.162731e-13   0.000000\n",
       "NADH16              3.853461e+01  38.534610\n",
       "NADTRHD            -3.488192e-13   0.000000\n",
       "NH4t                4.765319e+00   4.765319\n",
       "O2t                 2.179949e+01  21.799493\n",
       "PDH                 9.282533e+00   9.282533\n",
       "PFK                 7.477382e+00   7.477382\n",
       "PFL                -5.813653e-14   0.000000\n",
       "PGI                 0.000000e+00   0.000000\n",
       "PGK                -1.602353e+01 -16.023526\n",
       "PGL                 4.959985e+00   4.959985\n",
       "PGM                -1.471614e+01 -14.716140\n",
       "PIt2r               3.214895e+00   3.214895\n",
       "PPC                 2.504309e+00   2.504309\n",
       "PPCK               -8.720480e-14   0.000000\n",
       "PPS                -8.720480e-14   0.000000\n",
       "PTAr               -1.937884e-14   0.000000\n",
       "PYK                 1.758177e+00   1.758177\n",
       "PYRt2               0.000000e+00   0.000000\n",
       "RPE                 2.678482e+00   2.678482\n",
       "RPI                -2.281503e+00  -2.281503\n",
       "SUCCt2_2           -1.162731e-13   0.000000\n",
       "SUCCt3             -1.162731e-13   0.000000\n",
       "SUCDi               1.000000e+03   5.064376\n",
       "SUCOAS             -5.064376e+00  -5.064376\n",
       "TALA                1.496984e+00   1.496984\n",
       "THD2               -3.488192e-13   0.000000\n",
       "TKT1                1.496984e+00   1.496984\n",
       "TKT2                1.181498e+00   1.181498\n",
       "TPI                 7.477382e+00   7.477382\n",
       "\n",
       "[95 rows x 2 columns]"
      ]
     },
     "execution_count": 104,
     "metadata": {},
     "output_type": "execute_result"
    }
   ],
   "source": [
    "flux_variability_analysis(coremodel)"
   ]
  },
  {
   "cell_type": "code",
   "execution_count": null,
   "metadata": {
    "collapsed": true
   },
   "outputs": [],
   "source": []
  }
 ],
 "metadata": {
  "kernelspec": {
   "display_name": "Python 3",
   "language": "python",
   "name": "python3"
  },
  "language_info": {
   "codemirror_mode": {
    "name": "ipython",
    "version": 3
   },
   "file_extension": ".py",
   "mimetype": "text/x-python",
   "name": "python",
   "nbconvert_exporter": "python",
   "pygments_lexer": "ipython3",
   "version": "3.5.2"
  }
 },
 "nbformat": 4,
 "nbformat_minor": 2
}
